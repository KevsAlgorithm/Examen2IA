{
  "nbformat": 4,
  "nbformat_minor": 0,
  "metadata": {
    "kernelspec": {
      "display_name": "Python 3",
      "language": "python",
      "name": "python3"
    },
    "language_info": {
      "codemirror_mode": {
        "name": "ipython",
        "version": 3
      },
      "file_extension": ".py",
      "mimetype": "text/x-python",
      "name": "python",
      "nbconvert_exporter": "python",
      "pygments_lexer": "ipython3",
      "version": "3.7.6"
    },
    "colab": {
      "name": "ExamenParcial2.ipynb",
      "provenance": [],
      "collapsed_sections": [
        "Rvq1msM6Tcsu",
        "RL1u8piPTcsv",
        "AtgDzQfgTcsv",
        "1GQyGIu-Tcsv",
        "aB5TWQb0Tcsv",
        "GBatbydtTcsw",
        "MqauCvOITcsx",
        "LVwR-1yjTcsx",
        "RC_KAFrSTcsx",
        "j-8-eKzCTcsx"
      ]
    }
  },
  "cells": [
    {
      "cell_type": "markdown",
      "metadata": {
        "id": "hhNEnfqoTcsu"
      },
      "source": [
        "<img src=\"https://upload.wikimedia.org/wikipedia/commons/2/25/Logo_uaem_morelos.png\" style=\"width: 400px;\"/>"
      ]
    },
    {
      "cell_type": "markdown",
      "metadata": {
        "id": "JPT0rESDTcsu"
      },
      "source": [
        "<h2><center>Instituto de Investigación en Ciencias Básicas y Aplicadas (IICBA)</center></h2>\n",
        "<h2><center>Centro de Investigación en Ciencias (CINC)</center></h2>\n",
        "\n",
        "<h3><center>Curso: Inteligencia Artificial</center>\n",
        "<center>Profesor: Mauricio Rosales Rivera</center>\n",
        "<center>Examen Parcial 2</center></h3>\n",
        "    \n",
        "<h3><center>Fecha: Diciembre 2, 2020</center></h3>\n",
        "\n",
        "---\n",
        "\n",
        "<h3>Calificación: </h3>\n",
        "\n",
        "---\n",
        "<h4><center>Estudiantes</center></h4>\n",
        "<h4>Nombres:</h4>\n",
        "\n",
        "Bravo Martínez Ariel Miguel\n",
        "\n",
        "Ehrlich López Alexandra\n",
        "\n",
        "Hernández Jaramillo Kevin \n",
        "<h4>Matrículas:</h4>\n",
        "\n",
        "10018737\n",
        "\n",
        "10018739\n",
        "\n",
        "10018742\n",
        "\n",
        "Link del repo: \n",
        "\n",
        "https://github.com/Crypstack/examen2-ia\n"
      ]
    },
    {
      "cell_type": "markdown",
      "metadata": {
        "id": "52jTL-XsTcsu"
      },
      "source": [
        "# <font color=\"brown\">Examen Parcial 2 - Inteligencia Artificial</font>\n",
        "\n",
        "---\n",
        "\n",
        "Indicaciones: El examen abarca los temas vistos en los Módulos 3, 4 y 5.\n",
        "\n",
        "En la parte teórica, se evalua la correcta descripción de los términos.\n",
        "\n",
        "En la parte práctica, se evalua el desarrollo adecuado de la metodología para el ajuste de los datos, modelos y métricas de los mismos.\n",
        "\n",
        "* Fecha límite de entrega: Miércoles 02 de diciembre\n",
        "\n",
        "Esta notebook deberá contener el nombre completo, matrícula y el link correspondiente al GitHub de cada integrante.\n",
        "\n",
        "En caso de no tener la información aquí solicitada, no se evaluará el examen."
      ]
    },
    {
      "cell_type": "markdown",
      "metadata": {
        "id": "Rvq1msM6Tcsu"
      },
      "source": [
        "---\n",
        "---\n",
        "---\n",
        "# <font color=\"red\">Sección Teórica</font>\n",
        "\n",
        "### (30 puntos)\n",
        "\n",
        "---"
      ]
    },
    {
      "cell_type": "markdown",
      "metadata": {
        "id": "fbaNEj3kTcsu"
      },
      "source": [
        "---\n",
        "### <font color='blue'>P1.- ¿Qué son las Redes Bayesianas? Realiza una descripción y proporciona un breve ejemplo.</font>\n",
        "\n",
        "**Recuerda la notebook teórica de ML**\n",
        "\n",
        "(Valor: 3 puntos)\n",
        "\n",
        "---"
      ]
    },
    {
      "cell_type": "markdown",
      "metadata": {
        "id": "ozuVx7hKEM4t"
      },
      "source": [
        "Las redes bayesianas son una representación gráfica que representa representa un conjunto de variables y su dependencia entre ellas, en estos grafos los nodos representan las variables y los arcos entre ellos las dependencias probabilisticas, entonces la variable que se encuentra a donde apunta el arco es dependiente de la que esta en el origen del arco.\n",
        "\n",
        "Ejemplo:\n",
        "![](https://drive.google.com/uc?export=view&id=1xjUXiaoPzlrqpm27cY_O1qfxKKtEu9UH)"
      ]
    },
    {
      "cell_type": "markdown",
      "metadata": {
        "id": "DR4ItKUeTcsu"
      },
      "source": [
        "---\n",
        "### <font color='blue'>P2.- Realiza una descripción del Clasificador Bayes ingenuo (Naïve Bayes) y proporciona un breve ejemplo ya sea escrito o en código</font>\n",
        "(Valor: 3 puntos)\n",
        "\n",
        "---"
      ]
    },
    {
      "cell_type": "markdown",
      "metadata": {
        "id": "Udoq07zMFF4e"
      },
      "source": [
        "Un clasificador Bayes ingenuo es un clasificador que se basa en la aplicacion de el teorema de Bayes (de probabilidad) este clasificador asume que el valr de una característica en particular es independiente del valor de cualquier otra característica de la misma clase.\n",
        "\n",
        "Por ejemplo:\n",
        "\n",
        "Una fruta es considerada una manzana si es roja, redonda y dulce. El clasificador considera que una fruta redonda puede ser una manzana sin considerar la relación con el color rojo y el sabor dulce."
      ]
    },
    {
      "cell_type": "markdown",
      "metadata": {
        "id": "-6dhcHvVTcsu"
      },
      "source": [
        "---\n",
        "### <font color='blue'>P3.- Realiza una descripción de la Inferencia Bayesiana</font>\n",
        "(Valor: 3 puntos)\n",
        "\n",
        "---"
      ]
    },
    {
      "cell_type": "markdown",
      "metadata": {
        "id": "59C6gsPEFK7q"
      },
      "source": [
        "La inferencia bayesiana se tranta de una inferencia estadística en la que las se actualizan o se calcula la probabilidad de que una hipótesis pueda ser cierta de acuerdo a las observaciones que se hacen. Esta inferencia utiliza el grado de creencia de una hipótesis para tener un estimador numérico (apriori) y calcula otro estimador numérico (posteriori) después de observar la evidencia, podemos decir que se basa en grados de creencia o las probabilidades de eventos."
      ]
    },
    {
      "cell_type": "markdown",
      "metadata": {
        "id": "s0F3hY5YTcsu"
      },
      "source": [
        "---\n",
        "### <font color='blue'>P4.-  ¿Qué es el Aprendizaje Máquina?</font>\n",
        "\n",
        "(Valor: 3 Puntos)\n",
        "\n",
        "---"
      ]
    },
    {
      "cell_type": "markdown",
      "metadata": {
        "id": "FLyerWc7FTKW"
      },
      "source": [
        "El machine learning es una rama de la inteligencia artifical que nos permite realizar de manera automática una serie de operaciones que tiene como fin reducir la necesidad de la intervención de los humanos, es decir la capacidad de identificar patrones definidos por distintos parámetros, podemos decir entonces que por medio de algoritmos y datos de entrada la máquina puede predecir escenarios futuros y tomar decisiones de manera automática (sin la necesidad de un humano) según condiciones conocidas."
      ]
    },
    {
      "cell_type": "markdown",
      "metadata": {
        "id": "1QQBtlWqTcsv"
      },
      "source": [
        "---\n",
        "### <font color='blue'>P5.- ¿Cuáles son los tipos de aprendizaje máquina?. Además proporciona la diferencia entre ellas.</font>\n",
        "\n",
        "(Valor: 3 Puntos)\n",
        "\n",
        "---"
      ]
    },
    {
      "cell_type": "markdown",
      "metadata": {
        "id": "zn3oZ4sWFYeJ"
      },
      "source": [
        "Los tipos de aprendizaje de máquina son 2:\n",
        "\n",
        "Aprendizaje Supervisado y Aprendizaje no supervizado\n",
        "\n",
        "Los algoritmos de aprendizaje supervisado \"aprenden\" de los datos que son ingresados por los humanos,por lo tanto los datos de entrada se encuentran etiquetados, entonces para la salida del algoritmo obtendremos datos esperados, esto puede ser mediante una clasificación en clases (como en la identificación de pokemon, se clasifico a que tipo de pokemon correspondia cada imagen) o mediante predicciones numéricas. A diferencia de los algoritmos de aprendizaje no supervisado en los que no se tiene intervención humana, en ellos el algoritmo hace clasificaciones con una búsqueda de patrones o relaciones entre los datos que se tienen, que se utilizan para predecir las clases sobre los datos."
      ]
    },
    {
      "cell_type": "markdown",
      "metadata": {
        "id": "1icrNqYfTcsv"
      },
      "source": [
        "---\n",
        "### <font color='blue'>P6.- Describe el Método del Gradiente Descendiente y proporciona un breve ejemplo de su funcionamiento</font>\n",
        "(Valor: 6 Puntos)\n",
        "\n",
        "---"
      ]
    },
    {
      "cell_type": "markdown",
      "metadata": {
        "id": "gIFM8p-kFbOm"
      },
      "source": [
        "El método del gradiente descendiente consiste en un algoritmo iterativo para la búsqueda y localización de los valores que minimizan la función de costo (este mínimo puede ser local o no).\n",
        "\n",
        "Su funcionamiento: El algoritmo necesita conocer una taza de aprendizaje y la cantidad de iteraciones a reailzar, aleatoreamente el algoritmo selecciona un valor inicial (llamemoslo w) y utilizando una operación matemática (w=w-(taza de aprendizaje)(gradiente en w)), actualiza el valor de w, de esta manera después de varias iteraciones encontraremos el punto que minimiza a w. Ahora, recordemos que nuestro algoritmo puede quedar atrapado en un mínimo local, esa es una de las desventajas de usar gradiente descendiente."
      ]
    },
    {
      "cell_type": "markdown",
      "metadata": {
        "id": "RL1u8piPTcsv"
      },
      "source": [
        "---\n",
        "### <font color=\"blue\">P7.- ¿Qué son los datos y los atributos?</font>\n",
        "\n",
        "(Valor: 3 Puntos)\n",
        "\n",
        "---"
      ]
    },
    {
      "cell_type": "markdown",
      "metadata": {
        "id": "AnXhqomcFgeb"
      },
      "source": [
        "Los datos objetos que se caracterizan por sus atributos, estos objetos pueden estar representados de diferentes formas, como tablas estructuradas, imágenes, archivos de audio, videos, etc. Pero al final de cuentas todo esto se lee en nuestro ordenador como un conjunto gigantesco de ceros y unos. Los atributos son características de nuestros objetos que nos permiten establecer relaciones entre ellos y diferenciarlos entre ellos."
      ]
    },
    {
      "cell_type": "code",
      "metadata": {
        "id": "Cv9nYKdETcsv"
      },
      "source": [
        ""
      ],
      "execution_count": null,
      "outputs": []
    },
    {
      "cell_type": "markdown",
      "metadata": {
        "id": "AtgDzQfgTcsv"
      },
      "source": [
        "---\n",
        "### <font color=\"blue\">P8.- Describe las tres características generales de los conjuntos de datos: dimensionalidad, dispersión y resolución.</font>\n",
        "\n",
        "(Valor: 3 Puntos)\n",
        "\n",
        "---"
      ]
    },
    {
      "cell_type": "markdown",
      "metadata": {
        "id": "wT6hwnhwFrLQ"
      },
      "source": [
        "Dimensionalidad: Hace referencia al tamaño de nuestro conjunto de datos, es decir la cantidad de elementos que este contiene.  \n",
        "  \n",
        "Dispersión: Cuando hablamos de dispersión nos referimos a qué tanta diferencia hay de un dato con respecto a los demás, es decir, qué tan dispersos se encuntran entre sí, podemos tenerlos todos en un intérvalo pequeño o muy grande, entre más dispersión tenemos más diversidad.  \n",
        "  \n",
        "Resolución: La resolución, como su nombre nos dice, se refiere a la cantidad de datos que pueden usarse para solucionar el problema que queremos."
      ]
    },
    {
      "cell_type": "markdown",
      "metadata": {
        "id": "1GQyGIu-Tcsv"
      },
      "source": [
        "---\n",
        "### <font color=\"blue\">P9.- ¿Qué es el pre-procesamiento de los datos? Y ¿cuáles son los pasos utilizados para éste?</font>\n",
        "\n",
        "(Valor: 3 Puntos)\n",
        "\n",
        "---"
      ]
    },
    {
      "cell_type": "markdown",
      "metadata": {
        "id": "7plAwhhkGFlL"
      },
      "source": [
        "El preprocesamiento de datos es el paso a realizar antes de utilizar cualquier modelo de aprendizaje, debido a que de inicio la calidad de los datos y la información que podamos obtener de ellos afectará directamente a nuestros modelos de aprendizaje. Los datos pueden ser presentados de diferentes formas como son: imágenes, videos, tablas estructuradas, audios entre otros, sin embargo una computadora no entiende los datos de esta manera, por lo tanto, es necesario hacer un trabajo previo (de codificación) con estos datos para que el modelo de aprendizaje se pueda entrenar.\n",
        "\n",
        "Los pasos son:\n",
        "\n",
        "1 .- Limpieza de datos: aquí se realizan trabajos de correción, filtración, reducción de detalles y la deteción de datos que no tienen sentido.\n",
        "\n",
        "2 .- Normalización de datos: se intenta que todos los datos esten expresados en la misma unidad de medida o con la misma escala.\n",
        "\n",
        "3 .- Transformación de datos: aquí se busca que los datos sean modificados para que el resultado del entrenamiento sea más eficiente.\n",
        "\n",
        "4 .- Imputación de datos faltantes: en este paso se intenta llenar los espacios en blanco con datos intuitivos.\n",
        "\n",
        "5 .- Integración de datos: se realiza una fusión de datos de distintas fuentes, es importante evitar la redundancia de datos.\n",
        "\n",
        "6 .- Identificación de datos anómalos: se quieren detectar errores en una variable medida."
      ]
    },
    {
      "cell_type": "markdown",
      "metadata": {
        "id": "gsk7rbeyTcsv"
      },
      "source": [
        "---\n",
        "---\n",
        "---\n",
        "# <font color=\"red\">Sección Práctica</font>\n",
        "\n",
        "### (70 puntos)\n",
        "\n",
        "---"
      ]
    },
    {
      "cell_type": "markdown",
      "metadata": {
        "id": "aB5TWQb0Tcsv"
      },
      "source": [
        "---\n",
        "### <font color=\"blue\">P1.- Construye un perceptrón para realizar un análisis del conjunto de datos **Iris**</font>\n",
        "\n",
        "\n",
        "(Valor: 30 Puntos)\n",
        "\n",
        "---"
      ]
    },
    {
      "cell_type": "markdown",
      "metadata": {
        "id": "ChowKmnCTcsv"
      },
      "source": [
        "#### Nota: En esta sección, se realizará algo bastante parecido a lo que habíamos visto del perceptrón con el dataset de Iris, pero ahora usando las librerías de sklearn"
      ]
    },
    {
      "cell_type": "code",
      "metadata": {
        "id": "XP0QP8_LTcsv"
      },
      "source": [
        "# Estas son las librerías que se utilizarán en el problema\n",
        "from sklearn import datasets\n",
        "from sklearn.preprocessing import StandardScaler\n",
        "from sklearn.linear_model import Perceptron\n",
        "from sklearn.model_selection import train_test_split\n",
        "from sklearn.metrics import accuracy_score\n",
        "import numpy as np\n",
        "import pandas as pd\n",
        "import seaborn as sns\n",
        "import matplotlib.pyplot as plt"
      ],
      "execution_count": null,
      "outputs": []
    },
    {
      "cell_type": "code",
      "metadata": {
        "id": "4gEHgNKLTcsv"
      },
      "source": [
        "# Cargando el dataset\n",
        "iris = datasets.load_iris()"
      ],
      "execution_count": null,
      "outputs": []
    },
    {
      "cell_type": "code",
      "metadata": {
        "id": "6DFrJ6AfTcsv",
        "colab": {
          "base_uri": "https://localhost:8080/",
          "height": 122
        },
        "outputId": "ce9c5bf0-1f46-400a-f544-2ede9e16d3e5"
      },
      "source": [
        "# Veremos que hay un buen de información...\n",
        "iris.DESCR"
      ],
      "execution_count": null,
      "outputs": [
        {
          "output_type": "execute_result",
          "data": {
            "application/vnd.google.colaboratory.intrinsic+json": {
              "type": "string"
            },
            "text/plain": [
              "'.. _iris_dataset:\\n\\nIris plants dataset\\n--------------------\\n\\n**Data Set Characteristics:**\\n\\n    :Number of Instances: 150 (50 in each of three classes)\\n    :Number of Attributes: 4 numeric, predictive attributes and the class\\n    :Attribute Information:\\n        - sepal length in cm\\n        - sepal width in cm\\n        - petal length in cm\\n        - petal width in cm\\n        - class:\\n                - Iris-Setosa\\n                - Iris-Versicolour\\n                - Iris-Virginica\\n                \\n    :Summary Statistics:\\n\\n    ============== ==== ==== ======= ===== ====================\\n                    Min  Max   Mean    SD   Class Correlation\\n    ============== ==== ==== ======= ===== ====================\\n    sepal length:   4.3  7.9   5.84   0.83    0.7826\\n    sepal width:    2.0  4.4   3.05   0.43   -0.4194\\n    petal length:   1.0  6.9   3.76   1.76    0.9490  (high!)\\n    petal width:    0.1  2.5   1.20   0.76    0.9565  (high!)\\n    ============== ==== ==== ======= ===== ====================\\n\\n    :Missing Attribute Values: None\\n    :Class Distribution: 33.3% for each of 3 classes.\\n    :Creator: R.A. Fisher\\n    :Donor: Michael Marshall (MARSHALL%PLU@io.arc.nasa.gov)\\n    :Date: July, 1988\\n\\nThe famous Iris database, first used by Sir R.A. Fisher. The dataset is taken\\nfrom Fisher\\'s paper. Note that it\\'s the same as in R, but not as in the UCI\\nMachine Learning Repository, which has two wrong data points.\\n\\nThis is perhaps the best known database to be found in the\\npattern recognition literature.  Fisher\\'s paper is a classic in the field and\\nis referenced frequently to this day.  (See Duda & Hart, for example.)  The\\ndata set contains 3 classes of 50 instances each, where each class refers to a\\ntype of iris plant.  One class is linearly separable from the other 2; the\\nlatter are NOT linearly separable from each other.\\n\\n.. topic:: References\\n\\n   - Fisher, R.A. \"The use of multiple measurements in taxonomic problems\"\\n     Annual Eugenics, 7, Part II, 179-188 (1936); also in \"Contributions to\\n     Mathematical Statistics\" (John Wiley, NY, 1950).\\n   - Duda, R.O., & Hart, P.E. (1973) Pattern Classification and Scene Analysis.\\n     (Q327.D83) John Wiley & Sons.  ISBN 0-471-22361-1.  See page 218.\\n   - Dasarathy, B.V. (1980) \"Nosing Around the Neighborhood: A New System\\n     Structure and Classification Rule for Recognition in Partially Exposed\\n     Environments\".  IEEE Transactions on Pattern Analysis and Machine\\n     Intelligence, Vol. PAMI-2, No. 1, 67-71.\\n   - Gates, G.W. (1972) \"The Reduced Nearest Neighbor Rule\".  IEEE Transactions\\n     on Information Theory, May 1972, 431-433.\\n   - See also: 1988 MLC Proceedings, 54-64.  Cheeseman et al\"s AUTOCLASS II\\n     conceptual clustering system finds 3 classes in the data.\\n   - Many, many more ...'"
            ]
          },
          "metadata": {
            "tags": []
          },
          "execution_count": 4
        }
      ]
    },
    {
      "cell_type": "markdown",
      "metadata": {
        "id": "XZ8PaM3nTcsv"
      },
      "source": [
        "**Nota: como es un ejemplo clásico, contiene la información de las referencias del dataset**"
      ]
    },
    {
      "cell_type": "code",
      "metadata": {
        "id": "CU1csidjTcsv"
      },
      "source": [
        "# Crearemos X y y a partir de iris\n",
        "X = iris.data\n",
        "y = iris.target"
      ],
      "execution_count": null,
      "outputs": []
    },
    {
      "cell_type": "code",
      "metadata": {
        "id": "dVGMUJleTcsv"
      },
      "source": [
        "# Realizaremos el split de 70/30 para el train y test, respectivamente\n",
        "\n",
        "X_train, X_test, y_train, y_test = train_test_split(X, y, test_size=0.3)"
      ],
      "execution_count": null,
      "outputs": []
    },
    {
      "cell_type": "code",
      "metadata": {
        "id": "MeaygLWkTcsv",
        "colab": {
          "base_uri": "https://localhost:8080/"
        },
        "outputId": "ae05e60c-4a0c-4f1a-d8b5-9e3ed118ce34"
      },
      "source": [
        "# Realizaremos un escalamiento de los datos al conjunto de entrenamiento\n",
        "sc = StandardScaler()\n",
        "sc.fit(X_train)"
      ],
      "execution_count": null,
      "outputs": [
        {
          "output_type": "execute_result",
          "data": {
            "text/plain": [
              "StandardScaler(copy=True, with_mean=True, with_std=True)"
            ]
          },
          "metadata": {
            "tags": []
          },
          "execution_count": 8
        }
      ]
    },
    {
      "cell_type": "code",
      "metadata": {
        "id": "XQhoaFpKTcsw"
      },
      "source": [
        "# Y deberemos aplicarlo a los conjuntos de X (train y test)\n",
        "X_train_std = sc.transform(X_train)\n",
        "\n",
        "# Apply the SAME scaler to the X test data\n",
        "X_test_std = sc.transform(X_test)"
      ],
      "execution_count": null,
      "outputs": []
    },
    {
      "cell_type": "code",
      "metadata": {
        "id": "mNayAkLlTcsw",
        "colab": {
          "base_uri": "https://localhost:8080/"
        },
        "outputId": "c44375dd-5b97-4585-bbfe-1b74fafaebdc"
      },
      "source": [
        "# Un perceptrón con las siguientes características y deberán entrenarlo\n",
        "ppn = Perceptron(eta0=0.01, random_state=5)\n",
        "\n",
        "ppn.fit(X_train_std, y_train)"
      ],
      "execution_count": null,
      "outputs": [
        {
          "output_type": "execute_result",
          "data": {
            "text/plain": [
              "Perceptron(alpha=0.0001, class_weight=None, early_stopping=False, eta0=0.01,\n",
              "           fit_intercept=True, max_iter=1000, n_iter_no_change=5, n_jobs=None,\n",
              "           penalty=None, random_state=5, shuffle=True, tol=0.001,\n",
              "           validation_fraction=0.1, verbose=0, warm_start=False)"
            ]
          },
          "metadata": {
            "tags": []
          },
          "execution_count": 10
        }
      ]
    },
    {
      "cell_type": "code",
      "metadata": {
        "id": "wtfXM-AaTcsw"
      },
      "source": [
        "# Ahora, debemos hacer la predicción...\n",
        "y_pred = ppn.predict(X_test_std)"
      ],
      "execution_count": null,
      "outputs": []
    },
    {
      "cell_type": "code",
      "metadata": {
        "id": "opBEC2ioTcsw",
        "colab": {
          "base_uri": "https://localhost:8080/"
        },
        "outputId": "bdc4db7b-fb95-47fb-a04f-f280061b3861"
      },
      "source": [
        "# View the predicted y test data\n",
        "y_pred"
      ],
      "execution_count": null,
      "outputs": [
        {
          "output_type": "execute_result",
          "data": {
            "text/plain": [
              "array([0, 0, 0, 2, 0, 0, 1, 0, 0, 2, 1, 2, 0, 2, 1, 0, 0, 0, 0, 2, 1, 0,\n",
              "       0, 0, 2, 2, 0, 0, 0, 2, 1, 1, 0, 0, 0, 2, 0, 0, 1, 1, 0, 1, 0, 0,\n",
              "       2])"
            ]
          },
          "metadata": {
            "tags": []
          },
          "execution_count": 12
        }
      ]
    },
    {
      "cell_type": "code",
      "metadata": {
        "id": "TtqY1pbETcsw",
        "colab": {
          "base_uri": "https://localhost:8080/"
        },
        "outputId": "60c01f22-ccc1-464e-80e2-638598eea55b"
      },
      "source": [
        "# y visualizar que tan bueno fueron los resultados...\n",
        "print('Accuracy: %.2f' % accuracy_score(y_test, y_pred))"
      ],
      "execution_count": null,
      "outputs": [
        {
          "output_type": "stream",
          "text": [
            "Accuracy: 0.87\n"
          ],
          "name": "stdout"
        }
      ]
    },
    {
      "cell_type": "markdown",
      "metadata": {
        "id": "e0dOfIyMTcsw"
      },
      "source": [
        "##### Como podemos observar, ya evaluando todo el dataset ( a diferencia del ejercicio del perceptrón **hecho en casa** ), no le va tan mal..."
      ]
    },
    {
      "cell_type": "markdown",
      "metadata": {
        "id": "ujztBKjKTcsw"
      },
      "source": [
        "Por último... muestra un pairplot de todo el dataset. Convierte primero el dataset de iris de sklearn a un dataframe :)"
      ]
    },
    {
      "cell_type": "code",
      "metadata": {
        "id": "QQ9eFdq8Tcsw",
        "colab": {
          "base_uri": "https://localhost:8080/",
          "height": 415
        },
        "outputId": "7a444a75-4d1f-44ea-b0ea-443f9786c188"
      },
      "source": [
        "y_redimensioned = np.expand_dims(y, axis=1)\n",
        "dta = np.append(X[: 150], y_redimensioned, axis=1)\n",
        "\n",
        "df = pd.DataFrame(data=dta, columns=[\"sepal length (cm)\", \"sepal width (cm)\", \"petal length (cm)\", \"petal width (cm)\", \"target\"])\n",
        "df"
      ],
      "execution_count": null,
      "outputs": [
        {
          "output_type": "execute_result",
          "data": {
            "text/html": [
              "<div>\n",
              "<style scoped>\n",
              "    .dataframe tbody tr th:only-of-type {\n",
              "        vertical-align: middle;\n",
              "    }\n",
              "\n",
              "    .dataframe tbody tr th {\n",
              "        vertical-align: top;\n",
              "    }\n",
              "\n",
              "    .dataframe thead th {\n",
              "        text-align: right;\n",
              "    }\n",
              "</style>\n",
              "<table border=\"1\" class=\"dataframe\">\n",
              "  <thead>\n",
              "    <tr style=\"text-align: right;\">\n",
              "      <th></th>\n",
              "      <th>sepal length (cm)</th>\n",
              "      <th>sepal width (cm)</th>\n",
              "      <th>petal length (cm)</th>\n",
              "      <th>petal width (cm)</th>\n",
              "      <th>target</th>\n",
              "    </tr>\n",
              "  </thead>\n",
              "  <tbody>\n",
              "    <tr>\n",
              "      <th>0</th>\n",
              "      <td>5.1</td>\n",
              "      <td>3.5</td>\n",
              "      <td>1.4</td>\n",
              "      <td>0.2</td>\n",
              "      <td>0.0</td>\n",
              "    </tr>\n",
              "    <tr>\n",
              "      <th>1</th>\n",
              "      <td>4.9</td>\n",
              "      <td>3.0</td>\n",
              "      <td>1.4</td>\n",
              "      <td>0.2</td>\n",
              "      <td>0.0</td>\n",
              "    </tr>\n",
              "    <tr>\n",
              "      <th>2</th>\n",
              "      <td>4.7</td>\n",
              "      <td>3.2</td>\n",
              "      <td>1.3</td>\n",
              "      <td>0.2</td>\n",
              "      <td>0.0</td>\n",
              "    </tr>\n",
              "    <tr>\n",
              "      <th>3</th>\n",
              "      <td>4.6</td>\n",
              "      <td>3.1</td>\n",
              "      <td>1.5</td>\n",
              "      <td>0.2</td>\n",
              "      <td>0.0</td>\n",
              "    </tr>\n",
              "    <tr>\n",
              "      <th>4</th>\n",
              "      <td>5.0</td>\n",
              "      <td>3.6</td>\n",
              "      <td>1.4</td>\n",
              "      <td>0.2</td>\n",
              "      <td>0.0</td>\n",
              "    </tr>\n",
              "    <tr>\n",
              "      <th>...</th>\n",
              "      <td>...</td>\n",
              "      <td>...</td>\n",
              "      <td>...</td>\n",
              "      <td>...</td>\n",
              "      <td>...</td>\n",
              "    </tr>\n",
              "    <tr>\n",
              "      <th>145</th>\n",
              "      <td>6.7</td>\n",
              "      <td>3.0</td>\n",
              "      <td>5.2</td>\n",
              "      <td>2.3</td>\n",
              "      <td>2.0</td>\n",
              "    </tr>\n",
              "    <tr>\n",
              "      <th>146</th>\n",
              "      <td>6.3</td>\n",
              "      <td>2.5</td>\n",
              "      <td>5.0</td>\n",
              "      <td>1.9</td>\n",
              "      <td>2.0</td>\n",
              "    </tr>\n",
              "    <tr>\n",
              "      <th>147</th>\n",
              "      <td>6.5</td>\n",
              "      <td>3.0</td>\n",
              "      <td>5.2</td>\n",
              "      <td>2.0</td>\n",
              "      <td>2.0</td>\n",
              "    </tr>\n",
              "    <tr>\n",
              "      <th>148</th>\n",
              "      <td>6.2</td>\n",
              "      <td>3.4</td>\n",
              "      <td>5.4</td>\n",
              "      <td>2.3</td>\n",
              "      <td>2.0</td>\n",
              "    </tr>\n",
              "    <tr>\n",
              "      <th>149</th>\n",
              "      <td>5.9</td>\n",
              "      <td>3.0</td>\n",
              "      <td>5.1</td>\n",
              "      <td>1.8</td>\n",
              "      <td>2.0</td>\n",
              "    </tr>\n",
              "  </tbody>\n",
              "</table>\n",
              "<p>150 rows × 5 columns</p>\n",
              "</div>"
            ],
            "text/plain": [
              "     sepal length (cm)  sepal width (cm)  ...  petal width (cm)  target\n",
              "0                  5.1               3.5  ...               0.2     0.0\n",
              "1                  4.9               3.0  ...               0.2     0.0\n",
              "2                  4.7               3.2  ...               0.2     0.0\n",
              "3                  4.6               3.1  ...               0.2     0.0\n",
              "4                  5.0               3.6  ...               0.2     0.0\n",
              "..                 ...               ...  ...               ...     ...\n",
              "145                6.7               3.0  ...               2.3     2.0\n",
              "146                6.3               2.5  ...               1.9     2.0\n",
              "147                6.5               3.0  ...               2.0     2.0\n",
              "148                6.2               3.4  ...               2.3     2.0\n",
              "149                5.9               3.0  ...               1.8     2.0\n",
              "\n",
              "[150 rows x 5 columns]"
            ]
          },
          "metadata": {
            "tags": []
          },
          "execution_count": 34
        }
      ]
    },
    {
      "cell_type": "code",
      "metadata": {
        "id": "QpUuR2MsTcsw",
        "colab": {
          "base_uri": "https://localhost:8080/",
          "height": 743
        },
        "outputId": "d6ce3436-604b-4de5-e021-a9ab32bd0062"
      },
      "source": [
        "iris_pairplot = sns.load_dataset(\"iris\")\n",
        "sns.pairplot(iris_pairplot, hue=\"species\")"
      ],
      "execution_count": null,
      "outputs": [
        {
          "output_type": "execute_result",
          "data": {
            "text/plain": [
              "<seaborn.axisgrid.PairGrid at 0x7fedb6e70828>"
            ]
          },
          "metadata": {
            "tags": []
          },
          "execution_count": 49
        },
        {
          "output_type": "display_data",
          "data": {
            "image/png": "[encoded data removed]",
            "text/plain": [
              "<Figure size 804.75x720 with 20 Axes>"
            ]
          },
          "metadata": {
            "tags": [],
            "needs_background": "light"
          }
        }
      ]
    },
    {
      "cell_type": "markdown",
      "metadata": {
        "id": "GBatbydtTcsw"
      },
      "source": [
        "---\n",
        "### <font color=\"blue\">P2.- Aplicarás diversos algoritmos de clasificación para el conjunto de datos de información bancaria</font>\n",
        "\n",
        "\n",
        "(Valor: 40 Puntos)\n",
        "\n",
        "---"
      ]
    },
    {
      "cell_type": "code",
      "metadata": {
        "id": "HHAUdTOiTcsw"
      },
      "source": [
        "import numpy as np\n",
        "import pandas as pd\n",
        "import matplotlib.pyplot as plt\n",
        "import seaborn as sns"
      ],
      "execution_count": null,
      "outputs": []
    },
    {
      "cell_type": "markdown",
      "metadata": {
        "id": "M32h3_wQTcsw"
      },
      "source": [
        "Como puedes apreciar, el dataset del banco está separado por **;**, ajusta un poco el método de pd.read_csv para poder crear el dataframe correspondiente"
      ]
    },
    {
      "cell_type": "code",
      "metadata": {
        "colab": {
          "base_uri": "https://localhost:8080/"
        },
        "id": "e8Ovqk3gTiTa",
        "outputId": "1a79f504-92b0-49b5-e7cb-a0e2c71d77c6"
      },
      "source": [
        "from google.colab import drive\n",
        "drive.mount('/content/drive')"
      ],
      "execution_count": null,
      "outputs": [
        {
          "output_type": "stream",
          "text": [
            "Mounted at /content/drive\n"
          ],
          "name": "stdout"
        }
      ]
    },
    {
      "cell_type": "code",
      "metadata": {
        "id": "h1NJd75HTcsw"
      },
      "source": [
        "# Importaremos el dataset del conjunto de datos del banco\n",
        "bank = pd.read_csv('/content/drive/MyDrive/Colab Notebooks/examen2_data/bank-additional-full.csv', sep=\";\")"
      ],
      "execution_count": null,
      "outputs": []
    },
    {
      "cell_type": "code",
      "metadata": {
        "id": "N613Rf8dTcsw",
        "colab": {
          "base_uri": "https://localhost:8080/",
          "height": 435
        },
        "outputId": "bbe0bc8d-5c34-422a-e6be-a460275c60f8"
      },
      "source": [
        "bank"
      ],
      "execution_count": null,
      "outputs": [
        {
          "output_type": "execute_result",
          "data": {
            "text/html": [
              "<div>\n",
              "<style scoped>\n",
              "    .dataframe tbody tr th:only-of-type {\n",
              "        vertical-align: middle;\n",
              "    }\n",
              "\n",
              "    .dataframe tbody tr th {\n",
              "        vertical-align: top;\n",
              "    }\n",
              "\n",
              "    .dataframe thead th {\n",
              "        text-align: right;\n",
              "    }\n",
              "</style>\n",
              "<table border=\"1\" class=\"dataframe\">\n",
              "  <thead>\n",
              "    <tr style=\"text-align: right;\">\n",
              "      <th></th>\n",
              "      <th>age</th>\n",
              "      <th>job</th>\n",
              "      <th>marital</th>\n",
              "      <th>education</th>\n",
              "      <th>default</th>\n",
              "      <th>housing</th>\n",
              "      <th>loan</th>\n",
              "      <th>contact</th>\n",
              "      <th>month</th>\n",
              "      <th>day_of_week</th>\n",
              "      <th>duration</th>\n",
              "      <th>campaign</th>\n",
              "      <th>pdays</th>\n",
              "      <th>previous</th>\n",
              "      <th>poutcome</th>\n",
              "      <th>emp.var.rate</th>\n",
              "      <th>cons.price.idx</th>\n",
              "      <th>cons.conf.idx</th>\n",
              "      <th>euribor3m</th>\n",
              "      <th>nr.employed</th>\n",
              "      <th>y</th>\n",
              "    </tr>\n",
              "  </thead>\n",
              "  <tbody>\n",
              "    <tr>\n",
              "      <th>0</th>\n",
              "      <td>56</td>\n",
              "      <td>housemaid</td>\n",
              "      <td>married</td>\n",
              "      <td>basic.4y</td>\n",
              "      <td>no</td>\n",
              "      <td>no</td>\n",
              "      <td>no</td>\n",
              "      <td>telephone</td>\n",
              "      <td>may</td>\n",
              "      <td>mon</td>\n",
              "      <td>261</td>\n",
              "      <td>1</td>\n",
              "      <td>999</td>\n",
              "      <td>0</td>\n",
              "      <td>nonexistent</td>\n",
              "      <td>1.1</td>\n",
              "      <td>93.994</td>\n",
              "      <td>-36.4</td>\n",
              "      <td>4.857</td>\n",
              "      <td>5191.0</td>\n",
              "      <td>no</td>\n",
              "    </tr>\n",
              "    <tr>\n",
              "      <th>1</th>\n",
              "      <td>57</td>\n",
              "      <td>services</td>\n",
              "      <td>married</td>\n",
              "      <td>high.school</td>\n",
              "      <td>unknown</td>\n",
              "      <td>no</td>\n",
              "      <td>no</td>\n",
              "      <td>telephone</td>\n",
              "      <td>may</td>\n",
              "      <td>mon</td>\n",
              "      <td>149</td>\n",
              "      <td>1</td>\n",
              "      <td>999</td>\n",
              "      <td>0</td>\n",
              "      <td>nonexistent</td>\n",
              "      <td>1.1</td>\n",
              "      <td>93.994</td>\n",
              "      <td>-36.4</td>\n",
              "      <td>4.857</td>\n",
              "      <td>5191.0</td>\n",
              "      <td>no</td>\n",
              "    </tr>\n",
              "    <tr>\n",
              "      <th>2</th>\n",
              "      <td>37</td>\n",
              "      <td>services</td>\n",
              "      <td>married</td>\n",
              "      <td>high.school</td>\n",
              "      <td>no</td>\n",
              "      <td>yes</td>\n",
              "      <td>no</td>\n",
              "      <td>telephone</td>\n",
              "      <td>may</td>\n",
              "      <td>mon</td>\n",
              "      <td>226</td>\n",
              "      <td>1</td>\n",
              "      <td>999</td>\n",
              "      <td>0</td>\n",
              "      <td>nonexistent</td>\n",
              "      <td>1.1</td>\n",
              "      <td>93.994</td>\n",
              "      <td>-36.4</td>\n",
              "      <td>4.857</td>\n",
              "      <td>5191.0</td>\n",
              "      <td>no</td>\n",
              "    </tr>\n",
              "    <tr>\n",
              "      <th>3</th>\n",
              "      <td>40</td>\n",
              "      <td>admin.</td>\n",
              "      <td>married</td>\n",
              "      <td>basic.6y</td>\n",
              "      <td>no</td>\n",
              "      <td>no</td>\n",
              "      <td>no</td>\n",
              "      <td>telephone</td>\n",
              "      <td>may</td>\n",
              "      <td>mon</td>\n",
              "      <td>151</td>\n",
              "      <td>1</td>\n",
              "      <td>999</td>\n",
              "      <td>0</td>\n",
              "      <td>nonexistent</td>\n",
              "      <td>1.1</td>\n",
              "      <td>93.994</td>\n",
              "      <td>-36.4</td>\n",
              "      <td>4.857</td>\n",
              "      <td>5191.0</td>\n",
              "      <td>no</td>\n",
              "    </tr>\n",
              "    <tr>\n",
              "      <th>4</th>\n",
              "      <td>56</td>\n",
              "      <td>services</td>\n",
              "      <td>married</td>\n",
              "      <td>high.school</td>\n",
              "      <td>no</td>\n",
              "      <td>no</td>\n",
              "      <td>yes</td>\n",
              "      <td>telephone</td>\n",
              "      <td>may</td>\n",
              "      <td>mon</td>\n",
              "      <td>307</td>\n",
              "      <td>1</td>\n",
              "      <td>999</td>\n",
              "      <td>0</td>\n",
              "      <td>nonexistent</td>\n",
              "      <td>1.1</td>\n",
              "      <td>93.994</td>\n",
              "      <td>-36.4</td>\n",
              "      <td>4.857</td>\n",
              "      <td>5191.0</td>\n",
              "      <td>no</td>\n",
              "    </tr>\n",
              "    <tr>\n",
              "      <th>...</th>\n",
              "      <td>...</td>\n",
              "      <td>...</td>\n",
              "      <td>...</td>\n",
              "      <td>...</td>\n",
              "      <td>...</td>\n",
              "      <td>...</td>\n",
              "      <td>...</td>\n",
              "      <td>...</td>\n",
              "      <td>...</td>\n",
              "      <td>...</td>\n",
              "      <td>...</td>\n",
              "      <td>...</td>\n",
              "      <td>...</td>\n",
              "      <td>...</td>\n",
              "      <td>...</td>\n",
              "      <td>...</td>\n",
              "      <td>...</td>\n",
              "      <td>...</td>\n",
              "      <td>...</td>\n",
              "      <td>...</td>\n",
              "      <td>...</td>\n",
              "    </tr>\n",
              "    <tr>\n",
              "      <th>41183</th>\n",
              "      <td>73</td>\n",
              "      <td>retired</td>\n",
              "      <td>married</td>\n",
              "      <td>professional.course</td>\n",
              "      <td>no</td>\n",
              "      <td>yes</td>\n",
              "      <td>no</td>\n",
              "      <td>cellular</td>\n",
              "      <td>nov</td>\n",
              "      <td>fri</td>\n",
              "      <td>334</td>\n",
              "      <td>1</td>\n",
              "      <td>999</td>\n",
              "      <td>0</td>\n",
              "      <td>nonexistent</td>\n",
              "      <td>-1.1</td>\n",
              "      <td>94.767</td>\n",
              "      <td>-50.8</td>\n",
              "      <td>1.028</td>\n",
              "      <td>4963.6</td>\n",
              "      <td>yes</td>\n",
              "    </tr>\n",
              "    <tr>\n",
              "      <th>41184</th>\n",
              "      <td>46</td>\n",
              "      <td>blue-collar</td>\n",
              "      <td>married</td>\n",
              "      <td>professional.course</td>\n",
              "      <td>no</td>\n",
              "      <td>no</td>\n",
              "      <td>no</td>\n",
              "      <td>cellular</td>\n",
              "      <td>nov</td>\n",
              "      <td>fri</td>\n",
              "      <td>383</td>\n",
              "      <td>1</td>\n",
              "      <td>999</td>\n",
              "      <td>0</td>\n",
              "      <td>nonexistent</td>\n",
              "      <td>-1.1</td>\n",
              "      <td>94.767</td>\n",
              "      <td>-50.8</td>\n",
              "      <td>1.028</td>\n",
              "      <td>4963.6</td>\n",
              "      <td>no</td>\n",
              "    </tr>\n",
              "    <tr>\n",
              "      <th>41185</th>\n",
              "      <td>56</td>\n",
              "      <td>retired</td>\n",
              "      <td>married</td>\n",
              "      <td>university.degree</td>\n",
              "      <td>no</td>\n",
              "      <td>yes</td>\n",
              "      <td>no</td>\n",
              "      <td>cellular</td>\n",
              "      <td>nov</td>\n",
              "      <td>fri</td>\n",
              "      <td>189</td>\n",
              "      <td>2</td>\n",
              "      <td>999</td>\n",
              "      <td>0</td>\n",
              "      <td>nonexistent</td>\n",
              "      <td>-1.1</td>\n",
              "      <td>94.767</td>\n",
              "      <td>-50.8</td>\n",
              "      <td>1.028</td>\n",
              "      <td>4963.6</td>\n",
              "      <td>no</td>\n",
              "    </tr>\n",
              "    <tr>\n",
              "      <th>41186</th>\n",
              "      <td>44</td>\n",
              "      <td>technician</td>\n",
              "      <td>married</td>\n",
              "      <td>professional.course</td>\n",
              "      <td>no</td>\n",
              "      <td>no</td>\n",
              "      <td>no</td>\n",
              "      <td>cellular</td>\n",
              "      <td>nov</td>\n",
              "      <td>fri</td>\n",
              "      <td>442</td>\n",
              "      <td>1</td>\n",
              "      <td>999</td>\n",
              "      <td>0</td>\n",
              "      <td>nonexistent</td>\n",
              "      <td>-1.1</td>\n",
              "      <td>94.767</td>\n",
              "      <td>-50.8</td>\n",
              "      <td>1.028</td>\n",
              "      <td>4963.6</td>\n",
              "      <td>yes</td>\n",
              "    </tr>\n",
              "    <tr>\n",
              "      <th>41187</th>\n",
              "      <td>74</td>\n",
              "      <td>retired</td>\n",
              "      <td>married</td>\n",
              "      <td>professional.course</td>\n",
              "      <td>no</td>\n",
              "      <td>yes</td>\n",
              "      <td>no</td>\n",
              "      <td>cellular</td>\n",
              "      <td>nov</td>\n",
              "      <td>fri</td>\n",
              "      <td>239</td>\n",
              "      <td>3</td>\n",
              "      <td>999</td>\n",
              "      <td>1</td>\n",
              "      <td>failure</td>\n",
              "      <td>-1.1</td>\n",
              "      <td>94.767</td>\n",
              "      <td>-50.8</td>\n",
              "      <td>1.028</td>\n",
              "      <td>4963.6</td>\n",
              "      <td>no</td>\n",
              "    </tr>\n",
              "  </tbody>\n",
              "</table>\n",
              "<p>41188 rows × 21 columns</p>\n",
              "</div>"
            ],
            "text/plain": [
              "       age          job  marital  ... euribor3m nr.employed    y\n",
              "0       56    housemaid  married  ...     4.857      5191.0   no\n",
              "1       57     services  married  ...     4.857      5191.0   no\n",
              "2       37     services  married  ...     4.857      5191.0   no\n",
              "3       40       admin.  married  ...     4.857      5191.0   no\n",
              "4       56     services  married  ...     4.857      5191.0   no\n",
              "...    ...          ...      ...  ...       ...         ...  ...\n",
              "41183   73      retired  married  ...     1.028      4963.6  yes\n",
              "41184   46  blue-collar  married  ...     1.028      4963.6   no\n",
              "41185   56      retired  married  ...     1.028      4963.6   no\n",
              "41186   44   technician  married  ...     1.028      4963.6  yes\n",
              "41187   74      retired  married  ...     1.028      4963.6   no\n",
              "\n",
              "[41188 rows x 21 columns]"
            ]
          },
          "metadata": {
            "tags": []
          },
          "execution_count": 57
        }
      ]
    },
    {
      "cell_type": "markdown",
      "metadata": {
        "id": "bYC70THsTcsw"
      },
      "source": [
        "Muestren la forma dataframe, así como identifica la columna que será nuestro target."
      ]
    },
    {
      "cell_type": "code",
      "metadata": {
        "id": "oyLwANYsTcsw",
        "colab": {
          "base_uri": "https://localhost:8080/"
        },
        "outputId": "db92902c-0117-4b38-a5f2-72a980ecf198"
      },
      "source": [
        "bank.columns.values"
      ],
      "execution_count": null,
      "outputs": [
        {
          "output_type": "execute_result",
          "data": {
            "text/plain": [
              "array(['age', 'job', 'marital', 'education', 'default', 'housing', 'loan',\n",
              "       'contact', 'month', 'day_of_week', 'duration', 'campaign', 'pdays',\n",
              "       'previous', 'poutcome', 'emp.var.rate', 'cons.price.idx',\n",
              "       'cons.conf.idx', 'euribor3m', 'nr.employed', 'y'], dtype=object)"
            ]
          },
          "metadata": {
            "tags": []
          },
          "execution_count": 58
        }
      ]
    },
    {
      "cell_type": "code",
      "metadata": {
        "colab": {
          "base_uri": "https://localhost:8080/"
        },
        "id": "qKfij9aVUqKo",
        "outputId": "d3bdf9e8-2efb-4877-dba4-6c8615992381"
      },
      "source": [
        "# la columna y es el target\n",
        "y = bank['y']\n",
        "y"
      ],
      "execution_count": null,
      "outputs": [
        {
          "output_type": "execute_result",
          "data": {
            "text/plain": [
              "0         no\n",
              "1         no\n",
              "2         no\n",
              "3         no\n",
              "4         no\n",
              "        ... \n",
              "41183    yes\n",
              "41184     no\n",
              "41185     no\n",
              "41186    yes\n",
              "41187     no\n",
              "Name: y, Length: 41188, dtype: object"
            ]
          },
          "metadata": {
            "tags": []
          },
          "execution_count": 60
        }
      ]
    },
    {
      "cell_type": "markdown",
      "metadata": {
        "id": "izzEcUkFTcsw"
      },
      "source": [
        "Usaremos la función de pd.get_dummies para transformar la variable categórica a numérica"
      ]
    },
    {
      "cell_type": "code",
      "metadata": {
        "id": "j1TyZ-R0Tcsw",
        "colab": {
          "base_uri": "https://localhost:8080/",
          "height": 415
        },
        "outputId": "2ed50bf5-42b7-4471-9fa3-13135a975095"
      },
      "source": [
        "y = pd.get_dummies(y)\n",
        "y = y.rename(columns={'no': 'y'})\n",
        "y"
      ],
      "execution_count": null,
      "outputs": [
        {
          "output_type": "execute_result",
          "data": {
            "text/html": [
              "<div>\n",
              "<style scoped>\n",
              "    .dataframe tbody tr th:only-of-type {\n",
              "        vertical-align: middle;\n",
              "    }\n",
              "\n",
              "    .dataframe tbody tr th {\n",
              "        vertical-align: top;\n",
              "    }\n",
              "\n",
              "    .dataframe thead th {\n",
              "        text-align: right;\n",
              "    }\n",
              "</style>\n",
              "<table border=\"1\" class=\"dataframe\">\n",
              "  <thead>\n",
              "    <tr style=\"text-align: right;\">\n",
              "      <th></th>\n",
              "      <th>y</th>\n",
              "    </tr>\n",
              "  </thead>\n",
              "  <tbody>\n",
              "    <tr>\n",
              "      <th>0</th>\n",
              "      <td>1</td>\n",
              "    </tr>\n",
              "    <tr>\n",
              "      <th>1</th>\n",
              "      <td>1</td>\n",
              "    </tr>\n",
              "    <tr>\n",
              "      <th>2</th>\n",
              "      <td>1</td>\n",
              "    </tr>\n",
              "    <tr>\n",
              "      <th>3</th>\n",
              "      <td>1</td>\n",
              "    </tr>\n",
              "    <tr>\n",
              "      <th>4</th>\n",
              "      <td>1</td>\n",
              "    </tr>\n",
              "    <tr>\n",
              "      <th>...</th>\n",
              "      <td>...</td>\n",
              "    </tr>\n",
              "    <tr>\n",
              "      <th>41183</th>\n",
              "      <td>0</td>\n",
              "    </tr>\n",
              "    <tr>\n",
              "      <th>41184</th>\n",
              "      <td>1</td>\n",
              "    </tr>\n",
              "    <tr>\n",
              "      <th>41185</th>\n",
              "      <td>1</td>\n",
              "    </tr>\n",
              "    <tr>\n",
              "      <th>41186</th>\n",
              "      <td>0</td>\n",
              "    </tr>\n",
              "    <tr>\n",
              "      <th>41187</th>\n",
              "      <td>1</td>\n",
              "    </tr>\n",
              "  </tbody>\n",
              "</table>\n",
              "<p>41188 rows × 1 columns</p>\n",
              "</div>"
            ],
            "text/plain": [
              "       y\n",
              "0      1\n",
              "1      1\n",
              "2      1\n",
              "3      1\n",
              "4      1\n",
              "...   ..\n",
              "41183  0\n",
              "41184  1\n",
              "41185  1\n",
              "41186  0\n",
              "41187  1\n",
              "\n",
              "[41188 rows x 1 columns]"
            ]
          },
          "metadata": {
            "tags": []
          },
          "execution_count": 76
        }
      ]
    },
    {
      "cell_type": "markdown",
      "metadata": {
        "id": "gO-bN0oNTcsw"
      },
      "source": [
        "A partir del ejercicio de EDA_Predicción, nos basaremos para realizar las modificaciones correspondientes al dataframe como ahí se muestra. Pero la única diferencia será que aquí utilizarán menos columnas (bank_client y bank_related)."
      ]
    },
    {
      "cell_type": "code",
      "metadata": {
        "id": "ftVg6eJTTcsw",
        "colab": {
          "base_uri": "https://localhost:8080/",
          "height": 415
        },
        "outputId": "2b457827-1b9d-4fe7-b082-883abe57f833"
      },
      "source": [
        "bank_client = bank.iloc[:, 0:7]\n",
        "bank_client"
      ],
      "execution_count": null,
      "outputs": [
        {
          "output_type": "execute_result",
          "data": {
            "text/html": [
              "<div>\n",
              "<style scoped>\n",
              "    .dataframe tbody tr th:only-of-type {\n",
              "        vertical-align: middle;\n",
              "    }\n",
              "\n",
              "    .dataframe tbody tr th {\n",
              "        vertical-align: top;\n",
              "    }\n",
              "\n",
              "    .dataframe thead th {\n",
              "        text-align: right;\n",
              "    }\n",
              "</style>\n",
              "<table border=\"1\" class=\"dataframe\">\n",
              "  <thead>\n",
              "    <tr style=\"text-align: right;\">\n",
              "      <th></th>\n",
              "      <th>age</th>\n",
              "      <th>job</th>\n",
              "      <th>marital</th>\n",
              "      <th>education</th>\n",
              "      <th>default</th>\n",
              "      <th>housing</th>\n",
              "      <th>loan</th>\n",
              "    </tr>\n",
              "  </thead>\n",
              "  <tbody>\n",
              "    <tr>\n",
              "      <th>0</th>\n",
              "      <td>56</td>\n",
              "      <td>housemaid</td>\n",
              "      <td>married</td>\n",
              "      <td>basic.4y</td>\n",
              "      <td>no</td>\n",
              "      <td>no</td>\n",
              "      <td>no</td>\n",
              "    </tr>\n",
              "    <tr>\n",
              "      <th>1</th>\n",
              "      <td>57</td>\n",
              "      <td>services</td>\n",
              "      <td>married</td>\n",
              "      <td>high.school</td>\n",
              "      <td>unknown</td>\n",
              "      <td>no</td>\n",
              "      <td>no</td>\n",
              "    </tr>\n",
              "    <tr>\n",
              "      <th>2</th>\n",
              "      <td>37</td>\n",
              "      <td>services</td>\n",
              "      <td>married</td>\n",
              "      <td>high.school</td>\n",
              "      <td>no</td>\n",
              "      <td>yes</td>\n",
              "      <td>no</td>\n",
              "    </tr>\n",
              "    <tr>\n",
              "      <th>3</th>\n",
              "      <td>40</td>\n",
              "      <td>admin.</td>\n",
              "      <td>married</td>\n",
              "      <td>basic.6y</td>\n",
              "      <td>no</td>\n",
              "      <td>no</td>\n",
              "      <td>no</td>\n",
              "    </tr>\n",
              "    <tr>\n",
              "      <th>4</th>\n",
              "      <td>56</td>\n",
              "      <td>services</td>\n",
              "      <td>married</td>\n",
              "      <td>high.school</td>\n",
              "      <td>no</td>\n",
              "      <td>no</td>\n",
              "      <td>yes</td>\n",
              "    </tr>\n",
              "    <tr>\n",
              "      <th>...</th>\n",
              "      <td>...</td>\n",
              "      <td>...</td>\n",
              "      <td>...</td>\n",
              "      <td>...</td>\n",
              "      <td>...</td>\n",
              "      <td>...</td>\n",
              "      <td>...</td>\n",
              "    </tr>\n",
              "    <tr>\n",
              "      <th>41183</th>\n",
              "      <td>73</td>\n",
              "      <td>retired</td>\n",
              "      <td>married</td>\n",
              "      <td>professional.course</td>\n",
              "      <td>no</td>\n",
              "      <td>yes</td>\n",
              "      <td>no</td>\n",
              "    </tr>\n",
              "    <tr>\n",
              "      <th>41184</th>\n",
              "      <td>46</td>\n",
              "      <td>blue-collar</td>\n",
              "      <td>married</td>\n",
              "      <td>professional.course</td>\n",
              "      <td>no</td>\n",
              "      <td>no</td>\n",
              "      <td>no</td>\n",
              "    </tr>\n",
              "    <tr>\n",
              "      <th>41185</th>\n",
              "      <td>56</td>\n",
              "      <td>retired</td>\n",
              "      <td>married</td>\n",
              "      <td>university.degree</td>\n",
              "      <td>no</td>\n",
              "      <td>yes</td>\n",
              "      <td>no</td>\n",
              "    </tr>\n",
              "    <tr>\n",
              "      <th>41186</th>\n",
              "      <td>44</td>\n",
              "      <td>technician</td>\n",
              "      <td>married</td>\n",
              "      <td>professional.course</td>\n",
              "      <td>no</td>\n",
              "      <td>no</td>\n",
              "      <td>no</td>\n",
              "    </tr>\n",
              "    <tr>\n",
              "      <th>41187</th>\n",
              "      <td>74</td>\n",
              "      <td>retired</td>\n",
              "      <td>married</td>\n",
              "      <td>professional.course</td>\n",
              "      <td>no</td>\n",
              "      <td>yes</td>\n",
              "      <td>no</td>\n",
              "    </tr>\n",
              "  </tbody>\n",
              "</table>\n",
              "<p>41188 rows × 7 columns</p>\n",
              "</div>"
            ],
            "text/plain": [
              "       age          job  marital            education  default housing loan\n",
              "0       56    housemaid  married             basic.4y       no      no   no\n",
              "1       57     services  married          high.school  unknown      no   no\n",
              "2       37     services  married          high.school       no     yes   no\n",
              "3       40       admin.  married             basic.6y       no      no   no\n",
              "4       56     services  married          high.school       no      no  yes\n",
              "...    ...          ...      ...                  ...      ...     ...  ...\n",
              "41183   73      retired  married  professional.course       no     yes   no\n",
              "41184   46  blue-collar  married  professional.course       no      no   no\n",
              "41185   56      retired  married    university.degree       no     yes   no\n",
              "41186   44   technician  married  professional.course       no      no   no\n",
              "41187   74      retired  married  professional.course       no     yes   no\n",
              "\n",
              "[41188 rows x 7 columns]"
            ]
          },
          "metadata": {
            "tags": []
          },
          "execution_count": 81
        }
      ]
    },
    {
      "cell_type": "code",
      "metadata": {
        "id": "aIbJ-ccZTcsw"
      },
      "source": [
        "from sklearn.preprocessing import LabelEncoder\n",
        "labelencoder_X = LabelEncoder()\n",
        "bank_client['job']      = labelencoder_X.fit_transform(bank_client['job']) \n",
        "bank_client['marital']  = labelencoder_X.fit_transform(bank_client['marital']) \n",
        "bank_client['education']= labelencoder_X.fit_transform(bank_client['education']) \n",
        "bank_client['default']  = labelencoder_X.fit_transform(bank_client['default']) \n",
        "bank_client['housing']  = labelencoder_X.fit_transform(bank_client['housing']) \n",
        "bank_client['loan']     = labelencoder_X.fit_transform(bank_client['loan']) "
      ],
      "execution_count": null,
      "outputs": []
    },
    {
      "cell_type": "code",
      "metadata": {
        "id": "tzkaCJEOTcsw"
      },
      "source": [
        "def age(dataframe):\n",
        "    dataframe.loc[dataframe['age'] <= 32, 'age'] = 1\n",
        "    dataframe.loc[(dataframe['age'] > 32) & (dataframe['age'] <= 47), 'age'] = 2\n",
        "    dataframe.loc[(dataframe['age'] > 47) & (dataframe['age'] <= 70), 'age'] = 3\n",
        "    dataframe.loc[(dataframe['age'] > 70) & (dataframe['age'] <= 98), 'age'] = 4\n",
        "           \n",
        "    return dataframe\n",
        "\n",
        "age(bank_client);"
      ],
      "execution_count": null,
      "outputs": []
    },
    {
      "cell_type": "code",
      "metadata": {
        "id": "HMa9MLNNTcsw",
        "colab": {
          "base_uri": "https://localhost:8080/",
          "height": 202
        },
        "outputId": "8e0bcc00-02b0-4f64-c191-dcf8d3f7642e"
      },
      "source": [
        "bank_client.head()"
      ],
      "execution_count": null,
      "outputs": [
        {
          "output_type": "execute_result",
          "data": {
            "text/html": [
              "<div>\n",
              "<style scoped>\n",
              "    .dataframe tbody tr th:only-of-type {\n",
              "        vertical-align: middle;\n",
              "    }\n",
              "\n",
              "    .dataframe tbody tr th {\n",
              "        vertical-align: top;\n",
              "    }\n",
              "\n",
              "    .dataframe thead th {\n",
              "        text-align: right;\n",
              "    }\n",
              "</style>\n",
              "<table border=\"1\" class=\"dataframe\">\n",
              "  <thead>\n",
              "    <tr style=\"text-align: right;\">\n",
              "      <th></th>\n",
              "      <th>age</th>\n",
              "      <th>job</th>\n",
              "      <th>marital</th>\n",
              "      <th>education</th>\n",
              "      <th>default</th>\n",
              "      <th>housing</th>\n",
              "      <th>loan</th>\n",
              "    </tr>\n",
              "  </thead>\n",
              "  <tbody>\n",
              "    <tr>\n",
              "      <th>0</th>\n",
              "      <td>3</td>\n",
              "      <td>3</td>\n",
              "      <td>1</td>\n",
              "      <td>0</td>\n",
              "      <td>0</td>\n",
              "      <td>0</td>\n",
              "      <td>0</td>\n",
              "    </tr>\n",
              "    <tr>\n",
              "      <th>1</th>\n",
              "      <td>3</td>\n",
              "      <td>7</td>\n",
              "      <td>1</td>\n",
              "      <td>3</td>\n",
              "      <td>1</td>\n",
              "      <td>0</td>\n",
              "      <td>0</td>\n",
              "    </tr>\n",
              "    <tr>\n",
              "      <th>2</th>\n",
              "      <td>2</td>\n",
              "      <td>7</td>\n",
              "      <td>1</td>\n",
              "      <td>3</td>\n",
              "      <td>0</td>\n",
              "      <td>2</td>\n",
              "      <td>0</td>\n",
              "    </tr>\n",
              "    <tr>\n",
              "      <th>3</th>\n",
              "      <td>2</td>\n",
              "      <td>0</td>\n",
              "      <td>1</td>\n",
              "      <td>1</td>\n",
              "      <td>0</td>\n",
              "      <td>0</td>\n",
              "      <td>0</td>\n",
              "    </tr>\n",
              "    <tr>\n",
              "      <th>4</th>\n",
              "      <td>3</td>\n",
              "      <td>7</td>\n",
              "      <td>1</td>\n",
              "      <td>3</td>\n",
              "      <td>0</td>\n",
              "      <td>0</td>\n",
              "      <td>2</td>\n",
              "    </tr>\n",
              "  </tbody>\n",
              "</table>\n",
              "</div>"
            ],
            "text/plain": [
              "   age  job  marital  education  default  housing  loan\n",
              "0    3    3        1          0        0        0     0\n",
              "1    3    7        1          3        1        0     0\n",
              "2    2    7        1          3        0        2     0\n",
              "3    2    0        1          1        0        0     0\n",
              "4    3    7        1          3        0        0     2"
            ]
          },
          "metadata": {
            "tags": []
          },
          "execution_count": 85
        }
      ]
    },
    {
      "cell_type": "markdown",
      "metadata": {
        "id": "x5NszyRDTcsw"
      },
      "source": [
        "Ahora, el siguiente bloque..."
      ]
    },
    {
      "cell_type": "code",
      "metadata": {
        "id": "F1MEtjHoTcsw",
        "colab": {
          "base_uri": "https://localhost:8080/",
          "height": 202
        },
        "outputId": "4d0e7956-d4e8-40a7-eead-3ad40b182857"
      },
      "source": [
        "bank_related = bank.iloc[: , 7:11]\n",
        "bank_related.head()"
      ],
      "execution_count": null,
      "outputs": [
        {
          "output_type": "execute_result",
          "data": {
            "text/html": [
              "<div>\n",
              "<style scoped>\n",
              "    .dataframe tbody tr th:only-of-type {\n",
              "        vertical-align: middle;\n",
              "    }\n",
              "\n",
              "    .dataframe tbody tr th {\n",
              "        vertical-align: top;\n",
              "    }\n",
              "\n",
              "    .dataframe thead th {\n",
              "        text-align: right;\n",
              "    }\n",
              "</style>\n",
              "<table border=\"1\" class=\"dataframe\">\n",
              "  <thead>\n",
              "    <tr style=\"text-align: right;\">\n",
              "      <th></th>\n",
              "      <th>contact</th>\n",
              "      <th>month</th>\n",
              "      <th>day_of_week</th>\n",
              "      <th>duration</th>\n",
              "    </tr>\n",
              "  </thead>\n",
              "  <tbody>\n",
              "    <tr>\n",
              "      <th>0</th>\n",
              "      <td>telephone</td>\n",
              "      <td>may</td>\n",
              "      <td>mon</td>\n",
              "      <td>261</td>\n",
              "    </tr>\n",
              "    <tr>\n",
              "      <th>1</th>\n",
              "      <td>telephone</td>\n",
              "      <td>may</td>\n",
              "      <td>mon</td>\n",
              "      <td>149</td>\n",
              "    </tr>\n",
              "    <tr>\n",
              "      <th>2</th>\n",
              "      <td>telephone</td>\n",
              "      <td>may</td>\n",
              "      <td>mon</td>\n",
              "      <td>226</td>\n",
              "    </tr>\n",
              "    <tr>\n",
              "      <th>3</th>\n",
              "      <td>telephone</td>\n",
              "      <td>may</td>\n",
              "      <td>mon</td>\n",
              "      <td>151</td>\n",
              "    </tr>\n",
              "    <tr>\n",
              "      <th>4</th>\n",
              "      <td>telephone</td>\n",
              "      <td>may</td>\n",
              "      <td>mon</td>\n",
              "      <td>307</td>\n",
              "    </tr>\n",
              "  </tbody>\n",
              "</table>\n",
              "</div>"
            ],
            "text/plain": [
              "     contact month day_of_week  duration\n",
              "0  telephone   may         mon       261\n",
              "1  telephone   may         mon       149\n",
              "2  telephone   may         mon       226\n",
              "3  telephone   may         mon       151\n",
              "4  telephone   may         mon       307"
            ]
          },
          "metadata": {
            "tags": []
          },
          "execution_count": 88
        }
      ]
    },
    {
      "cell_type": "code",
      "metadata": {
        "id": "YpySyKluTcsw",
        "colab": {
          "base_uri": "https://localhost:8080/",
          "height": 459
        },
        "outputId": "53e96fd0-136b-498a-d9a9-5f854523f74a"
      },
      "source": [
        "fig, (ax1, ax2) = plt.subplots(nrows = 1, ncols = 2, figsize = (13, 5))\n",
        "sns.boxplot(x = 'duration', data = bank_related, orient = 'v', ax = ax1)\n",
        "ax1.set_xlabel('Calls', fontsize=10)\n",
        "ax1.set_ylabel('Duration', fontsize=10)\n",
        "ax1.set_title('Calls Distribution', fontsize=10)\n",
        "ax1.tick_params(labelsize=10)\n",
        "\n",
        "sns.distplot(bank_related['duration'], ax = ax2)\n",
        "sns.despine(ax = ax2)\n",
        "ax2.set_xlabel('Duration Calls', fontsize=10)\n",
        "ax2.set_ylabel('Occurence', fontsize=10)\n",
        "ax2.set_title('Duration x Ocucurence', fontsize=10)\n",
        "ax2.tick_params(labelsize=10)\n",
        "\n",
        "plt.subplots_adjust(wspace=0.5)\n",
        "plt.tight_layout() "
      ],
      "execution_count": null,
      "outputs": [
        {
          "output_type": "stream",
          "text": [
            "/usr/local/lib/python3.6/dist-packages/seaborn/_core.py:1303: UserWarning: Vertical orientation ignored with only `x` specified.\n",
            "  warnings.warn(single_var_warning.format(\"Vertical\", \"x\"))\n",
            "/usr/local/lib/python3.6/dist-packages/seaborn/distributions.py:2551: FutureWarning: `distplot` is a deprecated function and will be removed in a future version. Please adapt your code to use either `displot` (a figure-level function with similar flexibility) or `histplot` (an axes-level function for histograms).\n",
            "  warnings.warn(msg, FutureWarning)\n"
          ],
          "name": "stderr"
        },
        {
          "output_type": "display_data",
          "data": {
            "image/png": "[encoded data removed]",
            "text/plain": [
              "<Figure size 936x360 with 2 Axes>"
            ]
          },
          "metadata": {
            "tags": [],
            "needs_background": "light"
          }
        }
      ]
    },
    {
      "cell_type": "markdown",
      "metadata": {
        "id": "MqauCvOITcsx"
      },
      "source": [
        "### ¿Cuántos outliers hay presentes en estas gráficas y que podrían ustedes decir respecto a estos casos?\n",
        "\n",
        "---\n",
        "\n",
        "Muestra las duraciones de las llamadas tanto en minutos como en cuartiles y proporciona tu explicación"
      ]
    },
    {
      "cell_type": "code",
      "metadata": {
        "id": "K0MbmnccTcsx"
      },
      "source": [
        ""
      ],
      "execution_count": null,
      "outputs": []
    },
    {
      "cell_type": "markdown",
      "metadata": {
        "id": "LQ443As6Tcsx"
      },
      "source": [
        "Apliquemos una codificación de las variables categóricas a numéricas"
      ]
    },
    {
      "cell_type": "code",
      "metadata": {
        "id": "xS5OYdKETcsx"
      },
      "source": [
        "from sklearn.preprocessing import LabelEncoder\n",
        "labelencoder_X = LabelEncoder()\n",
        "bank_related['contact']     = labelencoder_X.fit_transform(bank_related['contact']) \n",
        "bank_related['month']       = labelencoder_X.fit_transform(bank_related['month']) \n",
        "bank_related['day_of_week'] = labelencoder_X.fit_transform(bank_related['day_of_week'])"
      ],
      "execution_count": null,
      "outputs": []
    },
    {
      "cell_type": "code",
      "metadata": {
        "id": "zT-kdQd9Tcsx",
        "colab": {
          "base_uri": "https://localhost:8080/",
          "height": 202
        },
        "outputId": "cab64f2a-2d70-45a7-f168-1e331576bd5d"
      },
      "source": [
        "bank_related.head()"
      ],
      "execution_count": null,
      "outputs": [
        {
          "output_type": "execute_result",
          "data": {
            "text/html": [
              "<div>\n",
              "<style scoped>\n",
              "    .dataframe tbody tr th:only-of-type {\n",
              "        vertical-align: middle;\n",
              "    }\n",
              "\n",
              "    .dataframe tbody tr th {\n",
              "        vertical-align: top;\n",
              "    }\n",
              "\n",
              "    .dataframe thead th {\n",
              "        text-align: right;\n",
              "    }\n",
              "</style>\n",
              "<table border=\"1\" class=\"dataframe\">\n",
              "  <thead>\n",
              "    <tr style=\"text-align: right;\">\n",
              "      <th></th>\n",
              "      <th>contact</th>\n",
              "      <th>month</th>\n",
              "      <th>day_of_week</th>\n",
              "      <th>duration</th>\n",
              "    </tr>\n",
              "  </thead>\n",
              "  <tbody>\n",
              "    <tr>\n",
              "      <th>0</th>\n",
              "      <td>1</td>\n",
              "      <td>6</td>\n",
              "      <td>1</td>\n",
              "      <td>261</td>\n",
              "    </tr>\n",
              "    <tr>\n",
              "      <th>1</th>\n",
              "      <td>1</td>\n",
              "      <td>6</td>\n",
              "      <td>1</td>\n",
              "      <td>149</td>\n",
              "    </tr>\n",
              "    <tr>\n",
              "      <th>2</th>\n",
              "      <td>1</td>\n",
              "      <td>6</td>\n",
              "      <td>1</td>\n",
              "      <td>226</td>\n",
              "    </tr>\n",
              "    <tr>\n",
              "      <th>3</th>\n",
              "      <td>1</td>\n",
              "      <td>6</td>\n",
              "      <td>1</td>\n",
              "      <td>151</td>\n",
              "    </tr>\n",
              "    <tr>\n",
              "      <th>4</th>\n",
              "      <td>1</td>\n",
              "      <td>6</td>\n",
              "      <td>1</td>\n",
              "      <td>307</td>\n",
              "    </tr>\n",
              "  </tbody>\n",
              "</table>\n",
              "</div>"
            ],
            "text/plain": [
              "   contact  month  day_of_week  duration\n",
              "0        1      6            1       261\n",
              "1        1      6            1       149\n",
              "2        1      6            1       226\n",
              "3        1      6            1       151\n",
              "4        1      6            1       307"
            ]
          },
          "metadata": {
            "tags": []
          },
          "execution_count": 91
        }
      ]
    },
    {
      "cell_type": "code",
      "metadata": {
        "id": "lz7TPhdQTcsx",
        "colab": {
          "base_uri": "https://localhost:8080/"
        },
        "outputId": "1296c266-4910-4164-9888-5c3d7c4ce434"
      },
      "source": [
        "bank_final= pd.concat([bank_client, bank_related], axis = 1)\n",
        "bank_final.shape"
      ],
      "execution_count": null,
      "outputs": [
        {
          "output_type": "execute_result",
          "data": {
            "text/plain": [
              "(41188, 11)"
            ]
          },
          "metadata": {
            "tags": []
          },
          "execution_count": 92
        }
      ]
    },
    {
      "cell_type": "code",
      "metadata": {
        "colab": {
          "base_uri": "https://localhost:8080/",
          "height": 202
        },
        "id": "36H8LCqk4BEk",
        "outputId": "48f4f40b-5556-43a9-8b8f-0cfa885a9558"
      },
      "source": [
        "bank_final.head()"
      ],
      "execution_count": null,
      "outputs": [
        {
          "output_type": "execute_result",
          "data": {
            "text/html": [
              "<div>\n",
              "<style scoped>\n",
              "    .dataframe tbody tr th:only-of-type {\n",
              "        vertical-align: middle;\n",
              "    }\n",
              "\n",
              "    .dataframe tbody tr th {\n",
              "        vertical-align: top;\n",
              "    }\n",
              "\n",
              "    .dataframe thead th {\n",
              "        text-align: right;\n",
              "    }\n",
              "</style>\n",
              "<table border=\"1\" class=\"dataframe\">\n",
              "  <thead>\n",
              "    <tr style=\"text-align: right;\">\n",
              "      <th></th>\n",
              "      <th>age</th>\n",
              "      <th>job</th>\n",
              "      <th>marital</th>\n",
              "      <th>education</th>\n",
              "      <th>default</th>\n",
              "      <th>housing</th>\n",
              "      <th>loan</th>\n",
              "      <th>contact</th>\n",
              "      <th>month</th>\n",
              "      <th>day_of_week</th>\n",
              "      <th>duration</th>\n",
              "    </tr>\n",
              "  </thead>\n",
              "  <tbody>\n",
              "    <tr>\n",
              "      <th>0</th>\n",
              "      <td>3</td>\n",
              "      <td>3</td>\n",
              "      <td>1</td>\n",
              "      <td>0</td>\n",
              "      <td>0</td>\n",
              "      <td>0</td>\n",
              "      <td>0</td>\n",
              "      <td>1</td>\n",
              "      <td>6</td>\n",
              "      <td>1</td>\n",
              "      <td>261</td>\n",
              "    </tr>\n",
              "    <tr>\n",
              "      <th>1</th>\n",
              "      <td>3</td>\n",
              "      <td>7</td>\n",
              "      <td>1</td>\n",
              "      <td>3</td>\n",
              "      <td>1</td>\n",
              "      <td>0</td>\n",
              "      <td>0</td>\n",
              "      <td>1</td>\n",
              "      <td>6</td>\n",
              "      <td>1</td>\n",
              "      <td>149</td>\n",
              "    </tr>\n",
              "    <tr>\n",
              "      <th>2</th>\n",
              "      <td>2</td>\n",
              "      <td>7</td>\n",
              "      <td>1</td>\n",
              "      <td>3</td>\n",
              "      <td>0</td>\n",
              "      <td>2</td>\n",
              "      <td>0</td>\n",
              "      <td>1</td>\n",
              "      <td>6</td>\n",
              "      <td>1</td>\n",
              "      <td>226</td>\n",
              "    </tr>\n",
              "    <tr>\n",
              "      <th>3</th>\n",
              "      <td>2</td>\n",
              "      <td>0</td>\n",
              "      <td>1</td>\n",
              "      <td>1</td>\n",
              "      <td>0</td>\n",
              "      <td>0</td>\n",
              "      <td>0</td>\n",
              "      <td>1</td>\n",
              "      <td>6</td>\n",
              "      <td>1</td>\n",
              "      <td>151</td>\n",
              "    </tr>\n",
              "    <tr>\n",
              "      <th>4</th>\n",
              "      <td>3</td>\n",
              "      <td>7</td>\n",
              "      <td>1</td>\n",
              "      <td>3</td>\n",
              "      <td>0</td>\n",
              "      <td>0</td>\n",
              "      <td>2</td>\n",
              "      <td>1</td>\n",
              "      <td>6</td>\n",
              "      <td>1</td>\n",
              "      <td>307</td>\n",
              "    </tr>\n",
              "  </tbody>\n",
              "</table>\n",
              "</div>"
            ],
            "text/plain": [
              "   age  job  marital  education  ...  contact  month  day_of_week  duration\n",
              "0    3    3        1          0  ...        1      6            1       261\n",
              "1    3    7        1          3  ...        1      6            1       149\n",
              "2    2    7        1          3  ...        1      6            1       226\n",
              "3    2    0        1          1  ...        1      6            1       151\n",
              "4    3    7        1          3  ...        1      6            1       307\n",
              "\n",
              "[5 rows x 11 columns]"
            ]
          },
          "metadata": {
            "tags": []
          },
          "execution_count": 93
        }
      ]
    },
    {
      "cell_type": "markdown",
      "metadata": {
        "id": "VeJ6i27DTcsx"
      },
      "source": [
        "Realizaremos el split de los datos en un 80/20"
      ]
    },
    {
      "cell_type": "code",
      "metadata": {
        "id": "gx56gdNMTcsx"
      },
      "source": [
        "from sklearn.model_selection import train_test_split\n",
        "\n",
        "X_train, X_test, y_train, y_test = train_test_split(bank_final, y, test_size=0.2, random_state=0)"
      ],
      "execution_count": null,
      "outputs": []
    },
    {
      "cell_type": "markdown",
      "metadata": {
        "id": "Lr6SmcH0Tcsx"
      },
      "source": [
        "Además de hacer el split de los datos, también deberán aplicar un escalar a los datos de X."
      ]
    },
    {
      "cell_type": "code",
      "metadata": {
        "id": "b9fyBT7BTcsx"
      },
      "source": [
        "from sklearn.preprocessing import StandardScaler\n",
        "scalar_X = StandardScaler()\n",
        "X_train = scalar_X.fit_transform(X_train)\n",
        "X_test = scalar_X.transform(X_test)"
      ],
      "execution_count": null,
      "outputs": []
    },
    {
      "cell_type": "markdown",
      "metadata": {
        "id": "GUCuzwCXTcsx"
      },
      "source": [
        "Posteriormente, aplicarán los algoritmos de:\n",
        "    * Regresión logística\n",
        "    * K vecinos cercanos (KNN)\n",
        "    * Árbol de decisión (DT)\n",
        "    * Bosque Aleatorio (RF)\n",
        "    \n",
        "Sin ninguna especie de asignación de hiperparámetros"
      ]
    },
    {
      "cell_type": "code",
      "metadata": {
        "id": "AjyR6aZPTcsx",
        "colab": {
          "base_uri": "https://localhost:8080/"
        },
        "outputId": "1de63fcc-1afe-4d5c-ab53-e163454e9c5e"
      },
      "source": [
        "from sklearn.linear_model import LogisticRegression\n",
        "from sklearn.neighbors import KNeighborsClassifier\n",
        "from sklearn.ensemble import RandomForestClassifier as RF\n",
        "from sklearn.tree import DecisionTreeClassifier as DT\n",
        "from sklearn.metrics import confusion_matrix, accuracy_score\n",
        "\n",
        "# Regresión logística\n",
        "alg1 = LogisticRegression()\n",
        "\n",
        "alg1.fit(X_train,y_train)\n",
        "alg1_pred = alg1.predict(X_test)\n",
        "\n",
        "as1 = accuracy_score(y_test, alg1_pred) * 100\n",
        "\n",
        "# K-vecinos cercanos\n",
        "alg2 = KNeighborsClassifier()\n",
        "\n",
        "alg2.fit(X_train, y_train)\n",
        "alg2_pred = alg2.predict(X_test)\n",
        "\n",
        "as2 = accuracy_score(y_test, alg2_pred) * 100\n",
        "\n",
        "# Árboles de decisión\n",
        "alg3 = DT()\n",
        "\n",
        "alg3.fit(X_train, y_train)\n",
        "alg3_pred = alg3.predict(X_test)\n",
        "\n",
        "as3 = accuracy_score(y_test, alg3_pred) * 100\n",
        "\n",
        "# Bosques aleatorios\n",
        "alg4 = RF()\n",
        "\n",
        "alg4.fit(X_train, y_train)\n",
        "alg4_pred = alg4.predict(X_test)\n",
        "\n",
        "as4 = accuracy_score(y_test, alg4_pred) * 100"
      ],
      "execution_count": null,
      "outputs": [
        {
          "output_type": "stream",
          "text": [
            "/usr/local/lib/python3.6/dist-packages/sklearn/utils/validation.py:760: DataConversionWarning: A column-vector y was passed when a 1d array was expected. Please change the shape of y to (n_samples, ), for example using ravel().\n",
            "  y = column_or_1d(y, warn=True)\n",
            "/usr/local/lib/python3.6/dist-packages/ipykernel_launcher.py:18: DataConversionWarning: A column-vector y was passed when a 1d array was expected. Please change the shape of y to (n_samples, ), for example using ravel().\n",
            "/usr/local/lib/python3.6/dist-packages/ipykernel_launcher.py:34: DataConversionWarning: A column-vector y was passed when a 1d array was expected. Please change the shape of y to (n_samples,), for example using ravel().\n"
          ],
          "name": "stderr"
        }
      ]
    },
    {
      "cell_type": "markdown",
      "metadata": {
        "id": "PlsHyqXXTcsx"
      },
      "source": [
        "Muestra en una tabla las puntuaciones de los algoritmos y, en su caso, ¿cuál habrá sido el que mejor comportamiento tendría?"
      ]
    },
    {
      "cell_type": "code",
      "metadata": {
        "scrolled": true,
        "id": "mtAPWQKSTcsx",
        "colab": {
          "base_uri": "https://localhost:8080/",
          "height": 171
        },
        "outputId": "1fb9f56d-b7d7-41b1-d521-3bdcddfc3111"
      },
      "source": [
        "results = pd.DataFrame({\n",
        "    'Models': ['Logistic Model', 'K-Near Neighbors', 'Decision Tree Classifier', 'Random Forest Classifier'],\n",
        "    'Score':  [as1, as2, as3, as4]\n",
        "    })\n",
        "\n",
        "results.sort_values(by='Score', ascending=False)"
      ],
      "execution_count": null,
      "outputs": [
        {
          "output_type": "execute_result",
          "data": {
            "text/html": [
              "<div>\n",
              "<style scoped>\n",
              "    .dataframe tbody tr th:only-of-type {\n",
              "        vertical-align: middle;\n",
              "    }\n",
              "\n",
              "    .dataframe tbody tr th {\n",
              "        vertical-align: top;\n",
              "    }\n",
              "\n",
              "    .dataframe thead th {\n",
              "        text-align: right;\n",
              "    }\n",
              "</style>\n",
              "<table border=\"1\" class=\"dataframe\">\n",
              "  <thead>\n",
              "    <tr style=\"text-align: right;\">\n",
              "      <th></th>\n",
              "      <th>Models</th>\n",
              "      <th>Score</th>\n",
              "    </tr>\n",
              "  </thead>\n",
              "  <tbody>\n",
              "    <tr>\n",
              "      <th>3</th>\n",
              "      <td>Random Forest Classifier</td>\n",
              "      <td>89.900461</td>\n",
              "    </tr>\n",
              "    <tr>\n",
              "      <th>0</th>\n",
              "      <td>Logistic Model</td>\n",
              "      <td>89.766934</td>\n",
              "    </tr>\n",
              "    <tr>\n",
              "      <th>1</th>\n",
              "      <td>K-Near Neighbors</td>\n",
              "      <td>89.232824</td>\n",
              "    </tr>\n",
              "    <tr>\n",
              "      <th>2</th>\n",
              "      <td>Decision Tree Classifier</td>\n",
              "      <td>86.756494</td>\n",
              "    </tr>\n",
              "  </tbody>\n",
              "</table>\n",
              "</div>"
            ],
            "text/plain": [
              "                     Models      Score\n",
              "3  Random Forest Classifier  89.900461\n",
              "0            Logistic Model  89.766934\n",
              "1          K-Near Neighbors  89.232824\n",
              "2  Decision Tree Classifier  86.756494"
            ]
          },
          "metadata": {
            "tags": []
          },
          "execution_count": 133
        }
      ]
    },
    {
      "cell_type": "markdown",
      "metadata": {
        "id": "9VU1B4F_Tcsx"
      },
      "source": [
        "Finalmente, muestren un reporte de clasificación de los dos mejores algoritmos"
      ]
    },
    {
      "cell_type": "code",
      "metadata": {
        "id": "J3LZ18UDTcsx",
        "colab": {
          "base_uri": "https://localhost:8080/"
        },
        "outputId": "7d8f07db-d4f4-41bf-fbc0-16570214f6c2"
      },
      "source": [
        "# los dos mejores fueron RF y la regresión logística\n",
        "from sklearn.metrics import classification_report\n",
        "\n",
        "print('K-vecinos cercanos\\n', classification_report(y_test, alg4_pred))"
      ],
      "execution_count": null,
      "outputs": [
        {
          "output_type": "stream",
          "text": [
            "K-vecinos cercanos\n",
            "               precision    recall  f1-score   support\n",
            "\n",
            "           0       0.57      0.36      0.45       919\n",
            "           1       0.92      0.97      0.94      7319\n",
            "\n",
            "    accuracy                           0.90      8238\n",
            "   macro avg       0.75      0.67      0.70      8238\n",
            "weighted avg       0.88      0.90      0.89      8238\n",
            "\n"
          ],
          "name": "stdout"
        }
      ]
    },
    {
      "cell_type": "code",
      "metadata": {
        "colab": {
          "base_uri": "https://localhost:8080/"
        },
        "id": "fSduMoadFQS_",
        "outputId": "deb79093-5739-427a-c168-ed67010387fb"
      },
      "source": [
        "print('Regresión logística\\n', classification_report(y_test, alg1_pred))"
      ],
      "execution_count": null,
      "outputs": [
        {
          "output_type": "stream",
          "text": [
            "Regresión logística\n",
            "               precision    recall  f1-score   support\n",
            "\n",
            "           0       0.62      0.22      0.32       919\n",
            "           1       0.91      0.98      0.94      7319\n",
            "\n",
            "    accuracy                           0.90      8238\n",
            "   macro avg       0.76      0.60      0.63      8238\n",
            "weighted avg       0.88      0.90      0.88      8238\n",
            "\n"
          ],
          "name": "stdout"
        }
      ]
    },
    {
      "cell_type": "markdown",
      "metadata": {
        "id": "iHKynRfNTcsx"
      },
      "source": [
        "---\n",
        "---\n",
        "---\n",
        "# <font color=\"red\">Sección Extra</font>\n",
        "\n",
        "### (40 puntos)\n",
        "\n",
        "---"
      ]
    },
    {
      "cell_type": "markdown",
      "metadata": {
        "id": "LVwR-1yjTcsx"
      },
      "source": [
        "### Precio de Bitcoin. Predicción de ARIMA\n",
        "\n",
        "**Propósito**: Tener una plantilla simplificada para comprender el pronóstico de series de tiempo con el modelo ARIMA en Python, actuando más como un tutorial.\n",
        "\n",
        "**Objetivo**: Construir un modelo para pronosticar la demanda (tráfico de pasajeros) en Aviones. Los datos se clasifican en fecha / hora y los pasajeros que viajan por mes."
      ]
    },
    {
      "cell_type": "code",
      "metadata": {
        "id": "F6jQsEa0Tcsx"
      },
      "source": [
        "import numpy as np\n",
        "import pandas as pd\n",
        "import seaborn as sns\n",
        "import matplotlib.pyplot as plt\n",
        "import matplotlib as mpl\n",
        "from scipy import stats\n",
        "import statsmodels.api as sm\n",
        "import warnings\n",
        "from itertools import product\n",
        "from datetime import datetime\n",
        "warnings.filterwarnings('ignore')\n",
        "plt.style.use('seaborn-poster')"
      ],
      "execution_count": null,
      "outputs": []
    },
    {
      "cell_type": "markdown",
      "metadata": {
        "id": "RC_KAFrSTcsx"
      },
      "source": [
        "### P1.- ¿Qué es una serie de tiempo?"
      ]
    },
    {
      "cell_type": "markdown",
      "metadata": {
        "id": "o5a7XhAZDtMw"
      },
      "source": [
        "Es una sucesión de datos medidos en determinados momentos y ordenados cronológicamente."
      ]
    },
    {
      "cell_type": "markdown",
      "metadata": {
        "id": "j-8-eKzCTcsx"
      },
      "source": [
        "### P2.- ¿Por qué y dónde se utiliza la serie de tiempo?"
      ]
    },
    {
      "cell_type": "markdown",
      "metadata": {
        "id": "BZm8hAMGD0e8"
      },
      "source": [
        "Las utilizamos principalmente para obtener pronósticos y predicciones en un conjunto de datos desarrollado en un intérvalo de tiempo dado."
      ]
    },
    {
      "cell_type": "markdown",
      "metadata": {
        "id": "Mh4-T7zETcsx"
      },
      "source": [
        "### P3.- ¿Cuáles son los componentes de las series de tiempo?"
      ]
    },
    {
      "cell_type": "markdown",
      "metadata": {
        "id": "cz9ZRl0JD64S"
      },
      "source": [
        "Tenemos 4 componentes de una serie de tiempo:  \n",
        "Tendencia secular, variación estacional, variación cíclica y variación irregular. "
      ]
    },
    {
      "cell_type": "markdown",
      "metadata": {
        "id": "8R_RtcYrTcsx"
      },
      "source": [
        "Cargaremos el dataset de información de bitcoins"
      ]
    },
    {
      "cell_type": "code",
      "metadata": {
        "id": "Dbd90R3sTcsx",
        "colab": {
          "base_uri": "https://localhost:8080/",
          "height": 202
        },
        "outputId": "0e685768-687e-4fe5-ef3c-165300c50303"
      },
      "source": [
        "df = pd.read_csv('/content/drive/MyDrive/Colab Notebooks/examen2_data/bitstampUSD_1-min_data_2012-01-01_to_2020-09-14.csv')\n",
        "df.head()"
      ],
      "execution_count": null,
      "outputs": [
        {
          "output_type": "execute_result",
          "data": {
            "text/html": [
              "<div>\n",
              "<style scoped>\n",
              "    .dataframe tbody tr th:only-of-type {\n",
              "        vertical-align: middle;\n",
              "    }\n",
              "\n",
              "    .dataframe tbody tr th {\n",
              "        vertical-align: top;\n",
              "    }\n",
              "\n",
              "    .dataframe thead th {\n",
              "        text-align: right;\n",
              "    }\n",
              "</style>\n",
              "<table border=\"1\" class=\"dataframe\">\n",
              "  <thead>\n",
              "    <tr style=\"text-align: right;\">\n",
              "      <th></th>\n",
              "      <th>Timestamp</th>\n",
              "      <th>Open</th>\n",
              "      <th>High</th>\n",
              "      <th>Low</th>\n",
              "      <th>Close</th>\n",
              "      <th>Volume_(BTC)</th>\n",
              "      <th>Volume_(Currency)</th>\n",
              "      <th>Weighted_Price</th>\n",
              "    </tr>\n",
              "  </thead>\n",
              "  <tbody>\n",
              "    <tr>\n",
              "      <th>0</th>\n",
              "      <td>1325317920</td>\n",
              "      <td>4.39</td>\n",
              "      <td>4.39</td>\n",
              "      <td>4.39</td>\n",
              "      <td>4.39</td>\n",
              "      <td>0.455581</td>\n",
              "      <td>2.0</td>\n",
              "      <td>4.39</td>\n",
              "    </tr>\n",
              "    <tr>\n",
              "      <th>1</th>\n",
              "      <td>1325317980</td>\n",
              "      <td>NaN</td>\n",
              "      <td>NaN</td>\n",
              "      <td>NaN</td>\n",
              "      <td>NaN</td>\n",
              "      <td>NaN</td>\n",
              "      <td>NaN</td>\n",
              "      <td>NaN</td>\n",
              "    </tr>\n",
              "    <tr>\n",
              "      <th>2</th>\n",
              "      <td>1325318040</td>\n",
              "      <td>NaN</td>\n",
              "      <td>NaN</td>\n",
              "      <td>NaN</td>\n",
              "      <td>NaN</td>\n",
              "      <td>NaN</td>\n",
              "      <td>NaN</td>\n",
              "      <td>NaN</td>\n",
              "    </tr>\n",
              "    <tr>\n",
              "      <th>3</th>\n",
              "      <td>1325318100</td>\n",
              "      <td>NaN</td>\n",
              "      <td>NaN</td>\n",
              "      <td>NaN</td>\n",
              "      <td>NaN</td>\n",
              "      <td>NaN</td>\n",
              "      <td>NaN</td>\n",
              "      <td>NaN</td>\n",
              "    </tr>\n",
              "    <tr>\n",
              "      <th>4</th>\n",
              "      <td>1325318160</td>\n",
              "      <td>NaN</td>\n",
              "      <td>NaN</td>\n",
              "      <td>NaN</td>\n",
              "      <td>NaN</td>\n",
              "      <td>NaN</td>\n",
              "      <td>NaN</td>\n",
              "      <td>NaN</td>\n",
              "    </tr>\n",
              "  </tbody>\n",
              "</table>\n",
              "</div>"
            ],
            "text/plain": [
              "    Timestamp  Open  High  ...  Volume_(BTC)  Volume_(Currency)  Weighted_Price\n",
              "0  1325317920  4.39  4.39  ...      0.455581                2.0            4.39\n",
              "1  1325317980   NaN   NaN  ...           NaN                NaN             NaN\n",
              "2  1325318040   NaN   NaN  ...           NaN                NaN             NaN\n",
              "3  1325318100   NaN   NaN  ...           NaN                NaN             NaN\n",
              "4  1325318160   NaN   NaN  ...           NaN                NaN             NaN\n",
              "\n",
              "[5 rows x 8 columns]"
            ]
          },
          "metadata": {
            "tags": []
          },
          "execution_count": 146
        }
      ]
    },
    {
      "cell_type": "code",
      "metadata": {
        "id": "xahZWdZ9Tcsx"
      },
      "source": [
        "# Unix-time to \n",
        "df.Timestamp = pd.to_datetime(df.Timestamp, unit='s')\n",
        "\n",
        "# Resampling to daily frequency\n",
        "df.index = df.Timestamp\n",
        "df = df.resample('D').mean()\n",
        "\n",
        "# Resampling to monthly frequency\n",
        "df_month = df.resample('M').mean()\n",
        "\n",
        "# Resampling to annual frequency\n",
        "df_year = df.resample('A-DEC').mean()\n",
        "\n",
        "# Resampling to quarterly frequency\n",
        "df_Q = df.resample('Q-DEC').mean()"
      ],
      "execution_count": null,
      "outputs": []
    },
    {
      "cell_type": "code",
      "metadata": {
        "id": "1JdpDYRbTcsx",
        "colab": {
          "base_uri": "https://localhost:8080/",
          "height": 479
        },
        "outputId": "00968b0f-0fec-4e43-c57e-cd286ef88073"
      },
      "source": [
        "# PLOTS\n",
        "fig = plt.figure(figsize=[15, 7])\n",
        "plt.suptitle('Bitcoin exchanges, mean USD', fontsize=22)\n",
        "\n",
        "plt.subplot(221)\n",
        "plt.plot(df.Weighted_Price, '-', label='By Days')\n",
        "plt.legend()\n",
        "\n",
        "plt.subplot(222)\n",
        "plt.plot(df_month.Weighted_Price, '-', label='By Months')\n",
        "plt.legend()\n",
        "\n",
        "plt.subplot(223)\n",
        "plt.plot(df_Q.Weighted_Price, '-', label='By Quarters')\n",
        "plt.legend()\n",
        "\n",
        "plt.subplot(224)\n",
        "plt.plot(df_year.Weighted_Price, '-', label='By Years')\n",
        "plt.legend()\n",
        "\n",
        "plt.show()"
      ],
      "execution_count": null,
      "outputs": [
        {
          "output_type": "display_data",
          "data": {
            "image/png": "[encoded data removed]",
            "text/plain": [
              "<Figure size 1080x504 with 4 Axes>"
            ]
          },
          "metadata": {
            "tags": [],
            "needs_background": "light"
          }
        }
      ]
    },
    {
      "cell_type": "markdown",
      "metadata": {
        "id": "LY-Uw7eaTcsx"
      },
      "source": [
        "## Predecirán el precio de las bitcoins por meses...\n",
        "### Verificación de estacionariedad y descomposición STL de la serie"
      ]
    },
    {
      "cell_type": "code",
      "metadata": {
        "id": "YbEH1ph-Tcsx",
        "colab": {
          "base_uri": "https://localhost:8080/",
          "height": 333
        },
        "outputId": "22b9044e-7d6f-4bab-d370-80e7344b1bef"
      },
      "source": [
        "import statsmodels.api as sm\n",
        "\n",
        "plt.figure(figsize=[15,7])\n",
        "sm.tsa.seasonal_decompose(df_month.Weighted_Price).plot()\n",
        "print(\"Dickey–Fuller test: p=%f\" % sm.tsa.stattools.adfuller(df_month.Weighted_Price)[1])\n",
        "plt.show()"
      ],
      "execution_count": null,
      "outputs": [
        {
          "output_type": "stream",
          "text": [
            "Dickey–Fuller test: p=0.617866\n"
          ],
          "name": "stdout"
        },
        {
          "output_type": "display_data",
          "data": {
            "text/plain": [
              "<Figure size 1080x504 with 0 Axes>"
            ]
          },
          "metadata": {
            "tags": []
          }
        },
        {
          "output_type": "display_data",
          "data": {
            "image/png": "[encoded data removed]",
            "text/plain": [
              "<Figure size 432x288 with 4 Axes>"
            ]
          },
          "metadata": {
            "tags": [],
            "needs_background": "light"
          }
        }
      ]
    },
    {
      "cell_type": "code",
      "metadata": {
        "id": "9kOi6aMqTcsx",
        "colab": {
          "base_uri": "https://localhost:8080/"
        },
        "outputId": "f63b4a04-f62c-48b9-84cf-939977b0f4ee"
      },
      "source": [
        "from scipy import stats\n",
        "\n",
        "df_month['Weighted_Price_box'], lmbda = stats.boxcox(df_month.Weighted_Price)\n",
        "print(\"Dickey–Fuller test: p=%f\" % sm.tsa.stattools.adfuller(df_month.Weighted_Price)[1])"
      ],
      "execution_count": null,
      "outputs": [
        {
          "output_type": "stream",
          "text": [
            "Dickey–Fuller test: p=0.617866\n"
          ],
          "name": "stdout"
        }
      ]
    },
    {
      "cell_type": "code",
      "metadata": {
        "scrolled": true,
        "id": "dROIiT0wTcsx",
        "colab": {
          "base_uri": "https://localhost:8080/"
        },
        "outputId": "473bbe72-bfab-41e2-a2b4-4e947c80d433"
      },
      "source": [
        "df_month['prices_box_diff'] = df_month.Weighted_Price_box - df_month.Weighted_Price_box.shift(12)\n",
        "print(\"Dickey–Fuller test: p=%f\" % sm.tsa.stattools.adfuller(df_month.prices_box_diff[12:])[1])"
      ],
      "execution_count": null,
      "outputs": [
        {
          "output_type": "stream",
          "text": [
            "Dickey–Fuller test: p=0.288535\n"
          ],
          "name": "stdout"
        }
      ]
    },
    {
      "cell_type": "code",
      "metadata": {
        "id": "vkO6z7j-Tcsx",
        "colab": {
          "base_uri": "https://localhost:8080/",
          "height": 332
        },
        "outputId": "e0730a44-ccbf-4885-da7d-07cfffd862f9"
      },
      "source": [
        "# Regular differentiation\n",
        "df_month['prices_box_diff2'] = df_month.prices_box_diff - df_month.prices_box_diff.shift(1)\n",
        "plt.figure(figsize=(15,7))\n",
        "\n",
        "# STL-decomposition\n",
        "sm.tsa.seasonal_decompose(df_month.prices_box_diff2[13:]).plot()   \n",
        "print(\"Dickey–Fuller test: p=%f\" % sm.tsa.stattools.adfuller(df_month.prices_box_diff2[13:])[1])\n",
        "\n",
        "plt.show()"
      ],
      "execution_count": null,
      "outputs": [
        {
          "output_type": "stream",
          "text": [
            "Dickey–Fuller test: p=0.000002\n"
          ],
          "name": "stdout"
        },
        {
          "output_type": "display_data",
          "data": {
            "text/plain": [
              "<Figure size 1080x504 with 0 Axes>"
            ]
          },
          "metadata": {
            "tags": []
          }
        },
        {
          "output_type": "display_data",
          "data": {
            "image/png": "[encoded data removed]",
            "text/plain": [
              "<Figure size 432x288 with 4 Axes>"
            ]
          },
          "metadata": {
            "tags": [],
            "needs_background": "light"
          }
        }
      ]
    },
    {
      "cell_type": "code",
      "metadata": {
        "scrolled": true,
        "id": "eNcqs6ZbTcsy",
        "colab": {
          "base_uri": "https://localhost:8080/",
          "height": 548
        },
        "outputId": "f1cf9130-3b16-42c6-df79-524971fb5335"
      },
      "source": [
        "# Initial approximation of parameters using Autocorrelation and Partial Autocorrelation Plots\n",
        "plt.figure(figsize=(15,7))\n",
        "ax = plt.subplot(211)\n",
        "sm.graphics.tsa.plot_acf(df_month.prices_box_diff2[13:].values.squeeze(), lags=48, ax=ax)\n",
        "ax = plt.subplot(212)\n",
        "sm.graphics.tsa.plot_pacf(df_month.prices_box_diff2[13:].values.squeeze(), lags=48, ax=ax)\n",
        "plt.tight_layout()\n",
        "plt.show()"
      ],
      "execution_count": null,
      "outputs": [
        {
          "output_type": "stream",
          "text": [
            "/usr/local/lib/python3.6/dist-packages/statsmodels/regression/linear_model.py:1358: RuntimeWarning: invalid value encountered in sqrt\n",
            "  return rho, np.sqrt(sigmasq)\n"
          ],
          "name": "stderr"
        },
        {
          "output_type": "display_data",
          "data": {
            "image/png": "[encoded data removed]",
            "text/plain": [
              "<Figure size 1080x504 with 2 Axes>"
            ]
          },
          "metadata": {
            "tags": [],
            "needs_background": "light"
          }
        }
      ]
    },
    {
      "cell_type": "code",
      "metadata": {
        "id": "t9JBADH5Tcsy"
      },
      "source": [
        "from itertools import product\n",
        "import warnings\n",
        "\n",
        "# Initial approximation of parameters\n",
        "Qs = range(0, 2)\n",
        "qs = range(0, 3)\n",
        "Ps = range(0, 3)\n",
        "ps = range(0, 3)\n",
        "D=1\n",
        "d=1\n",
        "parameters = product(ps, qs, Ps, Qs)\n",
        "parameters_list = list(parameters)\n",
        "len(parameters_list)\n",
        "\n",
        "# Model Selection\n",
        "results = []\n",
        "best_aic = float(\"inf\")\n",
        "warnings.filterwarnings('ignore')\n",
        "for param in parameters_list:\n",
        "    try:\n",
        "        model=sm.tsa.statespace.SARIMAX(df_month.Weighted_Price_box, order=(param[0], d, param[1]), \n",
        "                                        seasonal_order=(param[2], D, param[3], 12)).fit(disp=-1)\n",
        "    except ValueError:\n",
        "        print('wrong parameters:', param)\n",
        "        continue\n",
        "    aic = model.aic\n",
        "    if aic < best_aic:\n",
        "        best_model = model\n",
        "        best_aic = aic\n",
        "        best_param = param\n",
        "    results.append([param, model.aic])"
      ],
      "execution_count": null,
      "outputs": []
    },
    {
      "cell_type": "code",
      "metadata": {
        "id": "PbbvohidTcsy",
        "colab": {
          "base_uri": "https://localhost:8080/"
        },
        "outputId": "544a0ad3-f79c-4909-c6dd-8c183e006d4a"
      },
      "source": [
        "# Best Models\n",
        "result_table = pd.DataFrame(results)\n",
        "result_table.columns = ['parameters', 'aic']\n",
        "print(result_table.sort_values(by = 'aic', ascending=True).head())\n",
        "print(best_model.summary())"
      ],
      "execution_count": null,
      "outputs": [
        {
          "output_type": "stream",
          "text": [
            "      parameters         aic\n",
            "11  (0, 1, 2, 1)  198.825567\n",
            "23  (1, 0, 2, 1)  198.882307\n",
            "19  (1, 0, 0, 1)  199.158323\n",
            "21  (1, 0, 1, 1)  199.434530\n",
            "7   (0, 1, 0, 1)  199.517849\n",
            "                                 Statespace Model Results                                 \n",
            "==========================================================================================\n",
            "Dep. Variable:                 Weighted_Price_box   No. Observations:                  106\n",
            "Model:             SARIMAX(0, 1, 1)x(2, 1, 1, 12)   Log Likelihood                 -94.413\n",
            "Date:                            Mon, 30 Nov 2020   AIC                            198.826\n",
            "Time:                                    05:39:50   BIC                            211.489\n",
            "Sample:                                12-31-2011   HQIC                           203.939\n",
            "                                     - 09-30-2020                                         \n",
            "Covariance Type:                              opg                                         \n",
            "==============================================================================\n",
            "                 coef    std err          z      P>|z|      [0.025      0.975]\n",
            "------------------------------------------------------------------------------\n",
            "ma.L1          0.3521      0.105      3.343      0.001       0.146       0.559\n",
            "ar.S.L12      -0.4290      0.178     -2.415      0.016      -0.777      -0.081\n",
            "ar.S.L24      -0.3104      0.173     -1.790      0.073      -0.650       0.029\n",
            "ma.S.L12      -0.6120      0.217     -2.826      0.005      -1.037      -0.188\n",
            "sigma2         0.3704      0.050      7.350      0.000       0.272       0.469\n",
            "===================================================================================\n",
            "Ljung-Box (Q):                       26.58   Jarque-Bera (JB):                10.74\n",
            "Prob(Q):                              0.95   Prob(JB):                         0.00\n",
            "Heteroskedasticity (H):               1.18   Skew:                             0.57\n",
            "Prob(H) (two-sided):                  0.64   Kurtosis:                         4.21\n",
            "===================================================================================\n",
            "\n",
            "Warnings:\n",
            "[1] Covariance matrix calculated using the outer product of gradients (complex-step).\n"
          ],
          "name": "stdout"
        }
      ]
    },
    {
      "cell_type": "markdown",
      "metadata": {
        "id": "dUSIL3X7Tcsy"
      },
      "source": [
        "### P4.- ¿Qué es ADF_Test, ACF, PACF, ARIMA y SARIMA? ¿Para qué se usan?"
      ]
    },
    {
      "cell_type": "markdown",
      "metadata": {
        "id": "SOVy_wOoDZSn"
      },
      "source": [
        "**ACF y PACF** son diagramas de correlación, estos son una representación gráfica que muestra la relación de una variable con respecto a otra.\n",
        "\n",
        "**ADF** Prueba estacionaria de Dickey Fuller Aumentada, se utiliza para determinar si una raíz unitaria (una característica que puede causar problemas en la inferencia estadística) está presente en un modelo autorregresivo.\n",
        "\n",
        "**ARIMA** modelo autorregresivo integrado de promedio móvil, es un modelo estadístico que utiliza variaciones y regresiones de datos estadísticos con el fin de encontrar patrones para una predicción hacia el futuro.\n",
        "\n",
        "**SARIMA** Seasonal autoregressive integrated moving average. El modelo ARIMA puede generalizarse aún más para considerar el efecto de la estacionalidad. En ese caso, se habla de un modelo SARIMA."
      ]
    },
    {
      "cell_type": "code",
      "metadata": {
        "id": "9vjwz48NTcsy"
      },
      "source": [
        ""
      ],
      "execution_count": null,
      "outputs": []
    },
    {
      "cell_type": "code",
      "metadata": {
        "id": "PAoZr-ULTcsy",
        "colab": {
          "base_uri": "https://localhost:8080/",
          "height": 531
        },
        "outputId": "427d7bca-f74d-4f78-a67d-df6d9c6ed707"
      },
      "source": [
        "# STL-decomposition\n",
        "plt.figure(figsize=(15,7))\n",
        "plt.subplot(211)\n",
        "best_model.resid[13:].plot()\n",
        "plt.ylabel(u'Residuals')\n",
        "ax = plt.subplot(212)\n",
        "sm.graphics.tsa.plot_acf(best_model.resid[13:].values.squeeze(), lags=48, ax=ax)\n",
        "\n",
        "print(\"Dickey–Fuller test:: p=%f\" % sm.tsa.stattools.adfuller(best_model.resid[13:])[1])\n",
        "\n",
        "plt.tight_layout()\n",
        "plt.show()"
      ],
      "execution_count": null,
      "outputs": [
        {
          "output_type": "stream",
          "text": [
            "Dickey–Fuller test:: p=0.000000\n"
          ],
          "name": "stdout"
        },
        {
          "output_type": "display_data",
          "data": {
            "image/png": "[encoded data removed]",
            "text/plain": [
              "<Figure size 1080x504 with 2 Axes>"
            ]
          },
          "metadata": {
            "tags": [],
            "needs_background": "light"
          }
        }
      ]
    },
    {
      "cell_type": "markdown",
      "metadata": {
        "id": "IbvfIEWpTcsy"
      },
      "source": [
        "### Predicciones..."
      ]
    },
    {
      "cell_type": "code",
      "metadata": {
        "id": "r8NNdZ-dTcsy"
      },
      "source": [
        "# Inverse Box-Cox Transformation Function\n",
        "def invboxcox(y,lmbda):\n",
        "    if lmbda == 0:\n",
        "        return(np.exp(y))\n",
        "    else:\n",
        "        return(np.exp(np.log(lmbda*y+1)/lmbda))"
      ],
      "execution_count": null,
      "outputs": []
    },
    {
      "cell_type": "code",
      "metadata": {
        "id": "BP6h79cCTcsy",
        "colab": {
          "base_uri": "https://localhost:8080/",
          "height": 444
        },
        "outputId": "74f1b0c7-112d-4c14-a289-6316addc036f"
      },
      "source": [
        "from datetime import datetime\n",
        "\n",
        "# Prediction\n",
        "df_month2 = df_month[['Weighted_Price']]\n",
        "\n",
        "# Crea una lista con fechas y que sea hasta el mes de mayo\n",
        "date_list = [datetime(2020, 10, 31), datetime(2020, 11, 30), datetime(2020, 12, 31), datetime(2021, 1, 31), \n",
        "             datetime(2021, 2, 28), datetime(2021, 3, 31), datetime(2021, 4, 30), datetime(2021, 5, 31)]\n",
        "future = pd.DataFrame(index=date_list, columns= df_month.columns)\n",
        "df_month2 = pd.concat([df_month2, future])\n",
        "df_month2['forecast'] = invboxcox(best_model.predict(start=0, end=114), lmbda)\n",
        "plt.figure(figsize=(18,7))\n",
        "df_month2.Weighted_Price.plot()\n",
        "df_month2.forecast.plot(color='r', ls='--', label='Predicted Weighted_Price')\n",
        "plt.legend()\n",
        "plt.title('Bitcoin exchanges, by months')\n",
        "plt.ylabel('mean USD')\n",
        "plt.show()"
      ],
      "execution_count": null,
      "outputs": [
        {
          "output_type": "display_data",
          "data": {
            "image/png": "[encoded data removed]",
            "text/plain": [
              "<Figure size 1296x504 with 1 Axes>"
            ]
          },
          "metadata": {
            "tags": [],
            "needs_background": "light"
          }
        }
      ]
    },
    {
      "cell_type": "code",
      "metadata": {
        "id": "N50_yMY7Tcsy",
        "colab": {
          "base_uri": "https://localhost:8080/",
          "height": 447
        },
        "outputId": "b9ebbeab-61c1-4b0c-8856-a4cebe35dbaa"
      },
      "source": [
        "df_month2[['Weighted_Price', 'forecast']][-13:]"
      ],
      "execution_count": null,
      "outputs": [
        {
          "output_type": "execute_result",
          "data": {
            "text/html": [
              "<div>\n",
              "<style scoped>\n",
              "    .dataframe tbody tr th:only-of-type {\n",
              "        vertical-align: middle;\n",
              "    }\n",
              "\n",
              "    .dataframe tbody tr th {\n",
              "        vertical-align: top;\n",
              "    }\n",
              "\n",
              "    .dataframe thead th {\n",
              "        text-align: right;\n",
              "    }\n",
              "</style>\n",
              "<table border=\"1\" class=\"dataframe\">\n",
              "  <thead>\n",
              "    <tr style=\"text-align: right;\">\n",
              "      <th></th>\n",
              "      <th>Weighted_Price</th>\n",
              "      <th>forecast</th>\n",
              "    </tr>\n",
              "  </thead>\n",
              "  <tbody>\n",
              "    <tr>\n",
              "      <th>2020-05-31</th>\n",
              "      <td>9236.327890</td>\n",
              "      <td>8720.368164</td>\n",
              "    </tr>\n",
              "    <tr>\n",
              "      <th>2020-06-30</th>\n",
              "      <td>9459.531635</td>\n",
              "      <td>10767.596608</td>\n",
              "    </tr>\n",
              "    <tr>\n",
              "      <th>2020-07-31</th>\n",
              "      <td>9545.436344</td>\n",
              "      <td>9041.374362</td>\n",
              "    </tr>\n",
              "    <tr>\n",
              "      <th>2020-08-31</th>\n",
              "      <td>11637.080012</td>\n",
              "      <td>10765.656807</td>\n",
              "    </tr>\n",
              "    <tr>\n",
              "      <th>2020-09-30</th>\n",
              "      <td>10541.968835</td>\n",
              "      <td>12162.390971</td>\n",
              "    </tr>\n",
              "    <tr>\n",
              "      <th>2020-10-31</th>\n",
              "      <td>NaN</td>\n",
              "      <td>11106.331146</td>\n",
              "    </tr>\n",
              "    <tr>\n",
              "      <th>2020-11-30</th>\n",
              "      <td>NaN</td>\n",
              "      <td>13602.727678</td>\n",
              "    </tr>\n",
              "    <tr>\n",
              "      <th>2020-12-31</th>\n",
              "      <td>NaN</td>\n",
              "      <td>17544.577837</td>\n",
              "    </tr>\n",
              "    <tr>\n",
              "      <th>2021-01-31</th>\n",
              "      <td>NaN</td>\n",
              "      <td>16634.850351</td>\n",
              "    </tr>\n",
              "    <tr>\n",
              "      <th>2021-02-28</th>\n",
              "      <td>NaN</td>\n",
              "      <td>15055.236989</td>\n",
              "    </tr>\n",
              "    <tr>\n",
              "      <th>2021-03-31</th>\n",
              "      <td>NaN</td>\n",
              "      <td>15551.034466</td>\n",
              "    </tr>\n",
              "    <tr>\n",
              "      <th>2021-04-30</th>\n",
              "      <td>NaN</td>\n",
              "      <td>15413.022693</td>\n",
              "    </tr>\n",
              "    <tr>\n",
              "      <th>2021-05-31</th>\n",
              "      <td>NaN</td>\n",
              "      <td>17284.779902</td>\n",
              "    </tr>\n",
              "  </tbody>\n",
              "</table>\n",
              "</div>"
            ],
            "text/plain": [
              "            Weighted_Price      forecast\n",
              "2020-05-31     9236.327890   8720.368164\n",
              "2020-06-30     9459.531635  10767.596608\n",
              "2020-07-31     9545.436344   9041.374362\n",
              "2020-08-31    11637.080012  10765.656807\n",
              "2020-09-30    10541.968835  12162.390971\n",
              "2020-10-31             NaN  11106.331146\n",
              "2020-11-30             NaN  13602.727678\n",
              "2020-12-31             NaN  17544.577837\n",
              "2021-01-31             NaN  16634.850351\n",
              "2021-02-28             NaN  15055.236989\n",
              "2021-03-31             NaN  15551.034466\n",
              "2021-04-30             NaN  15413.022693\n",
              "2021-05-31             NaN  17284.779902"
            ]
          },
          "metadata": {
            "tags": []
          },
          "execution_count": 253
        }
      ]
    },
    {
      "cell_type": "markdown",
      "metadata": {
        "id": "26B-mX-DDphu"
      },
      "source": [
        ""
      ]
    },
    {
      "cell_type": "markdown",
      "metadata": {
        "id": "el3wHeLYTcsy"
      },
      "source": [
        "### ¿Qué podemos inferir de estas cosas?"
      ]
    },
    {
      "cell_type": "markdown",
      "metadata": {
        "id": "lUUfctfjTcsy"
      },
      "source": [
        "Que el valor del Bitcoin irá en aumento hasta cierto punto donde después comenzará a bajar con, al parecer, la misma tendencia que con la que subió."
      ]
    }
  ]
}